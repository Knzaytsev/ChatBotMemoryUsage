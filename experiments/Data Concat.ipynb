{
 "cells": [
  {
   "cell_type": "code",
   "execution_count": 7,
   "id": "a1fc4e14-0c09-4712-abb0-e588952590e0",
   "metadata": {},
   "outputs": [],
   "source": [
    "import os\n",
    "import numpy as np\n",
    "from tqdm import tqdm\n",
    "import re\n",
    "import json\n",
    "\n",
    "with open('annotated_predictions.json', 'r') as f:\n",
    "    annotated_data = json.loads(f.read())\n",
    "    \n",
    "with open('summary_vicuna.json', 'r') as f:\n",
    "    summaries = json.loads(f.read())"
   ]
  },
  {
   "cell_type": "code",
   "execution_count": 23,
   "id": "864e7175-8f2c-4e5b-aba4-b25f52d5c74d",
   "metadata": {},
   "outputs": [],
   "source": [
    "annotated_data = {(data['data']['dialog_id'], data['data']['session']): data for data in annotated_data}\n",
    "summaries = {(data['data']['dialog_id'], data['data']['session']): data for data in summaries}"
   ]
  },
  {
   "cell_type": "code",
   "execution_count": 62,
   "id": "7333a258-db1e-4cde-afa7-607c85de7ae8",
   "metadata": {},
   "outputs": [],
   "source": [
    "dialog_ids = map(lambda x: x[0], filter(lambda x: x[1] == 'session_1', annotated_data.keys()))\n",
    "\n",
    "sessions = ['session_1', 'session_2', 'session_3']\n",
    "\n",
    "dataset = dict()\n",
    "\n",
    "for dialog_id in dialog_ids:\n",
    "    dataset[dialog_id] = dict()\n",
    "    for session in sessions:\n",
    "        session_data = dict()\n",
    "        session_data['dialog'] = [data['author'] + ': ' + data['text'] \n",
    "                                            for data in annotated_data[(dialog_id, session)]['data']['dialogue']]\n",
    "        speakers = {'facts_s1': 'bot_0', 'facts_s2': 'bot_1'}\n",
    "        session_data['facts'] = dict()\n",
    "        for fact in annotated_data[(dialog_id, session)]['annotations'][0]['result']:\n",
    "            if fact['from_name'] in speakers:\n",
    "                session_data['facts'][speakers.pop(fact['from_name'])] = fact['value']['choices']\n",
    "        session_data['context'] = summaries[(dialog_id, session)]['annotations'][0]['result'][0]['value']['text'][0]\n",
    "        dataset[dialog_id][session] = session_data"
   ]
  },
  {
   "cell_type": "code",
   "execution_count": 63,
   "id": "446d9306-2f83-41a0-8392-8c701d09f4a3",
   "metadata": {},
   "outputs": [],
   "source": [
    "with open('./data/dialog_dataset.json', 'w') as f:\n",
    "    json.dump(dataset, f)"
   ]
  }
 ],
 "metadata": {
  "kernelspec": {
   "display_name": "Python 3",
   "language": "python",
   "name": "python3"
  },
  "language_info": {
   "codemirror_mode": {
    "name": "ipython",
    "version": 3
   },
   "file_extension": ".py",
   "mimetype": "text/x-python",
   "name": "python",
   "nbconvert_exporter": "python",
   "pygments_lexer": "ipython3",
   "version": "3.11.1 (v3.11.1:a7a450f84a, Dec  6 2022, 15:24:06) [Clang 13.0.0 (clang-1300.0.29.30)]"
  },
  "vscode": {
   "interpreter": {
    "hash": "1a1af0ee75eeea9e2e1ee996c87e7a2b11a0bebd85af04bb136d915cefc0abce"
   }
  }
 },
 "nbformat": 4,
 "nbformat_minor": 5
}
