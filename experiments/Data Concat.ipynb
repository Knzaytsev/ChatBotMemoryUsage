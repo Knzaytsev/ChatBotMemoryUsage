{
 "cells": [
  {
   "cell_type": "code",
   "execution_count": 7,
   "id": "a1fc4e14-0c09-4712-abb0-e588952590e0",
   "metadata": {},
   "outputs": [],
   "source": [
    "import os\n",
    "import numpy as np\n",
    "from tqdm import tqdm\n",
    "import re\n",
    "import json\n",
    "\n",
    "with open('annotated_predictions.json', 'r') as f:\n",
    "    annotated_data = json.loads(f.read())\n",
    "    \n",
    "with open('summary_vicuna.json', 'r') as f:\n",
    "    summaries = json.loads(f.read())"
   ]
  },
  {
   "cell_type": "code",
   "execution_count": 19,
   "id": "c533882b-b75d-410d-b307-41ac80d329a1",
   "metadata": {},
   "outputs": [
    {
     "data": {
      "text/plain": [
       "{'value': {'choices': ['bot_1 enjoys sewing as a hobby to keep the voices at bay.']},\n",
       " 'id': 'flGcEQOBYN',\n",
       " 'from_name': 'facts_s2',\n",
       " 'to_name': 'chat',\n",
       " 'type': 'choices',\n",
       " 'origin': 'prediction'}"
      ]
     },
     "execution_count": 19,
     "metadata": {},
     "output_type": "execute_result"
    }
   ],
   "source": [
    "annotated_data[0]['annotations'][0]['result'][1]"
   ]
  },
  {
   "cell_type": "code",
   "execution_count": 21,
   "id": "3240880b-09d9-4012-a619-93cb1f1110ec",
   "metadata": {},
   "outputs": [
    {
     "data": {
      "text/plain": [
       "dict_keys(['dialogue', 's1', 's2', 'summary', 'dialog_id', 'session', 'is_annotated'])"
      ]
     },
     "execution_count": 21,
     "metadata": {},
     "output_type": "execute_result"
    }
   ],
   "source": [
    "annotated_data[0]['data'].keys()"
   ]
  },
  {
   "cell_type": "code",
   "execution_count": 23,
   "id": "864e7175-8f2c-4e5b-aba4-b25f52d5c74d",
   "metadata": {},
   "outputs": [],
   "source": [
    "annotated_data = {(data['data']['dialog_id'], data['data']['session']): data for data in annotated_data}\n",
    "summaries = {(data['data']['dialog_id'], data['data']['session']): data for data in summaries}"
   ]
  },
  {
   "cell_type": "code",
   "execution_count": 62,
   "id": "7333a258-db1e-4cde-afa7-607c85de7ae8",
   "metadata": {},
   "outputs": [],
   "source": [
    "dialog_ids = map(lambda x: x[0], filter(lambda x: x[1] == 'session_1', annotated_data.keys()))\n",
    "\n",
    "sessions = ['session_1', 'session_2', 'session_3']\n",
    "\n",
    "dataset = dict()\n",
    "\n",
    "for dialog_id in dialog_ids:\n",
    "    dataset[dialog_id] = dict()\n",
    "    for session in sessions:\n",
    "        session_data = dict()\n",
    "        session_data['dialog'] = [data['author'] + ': ' + data['text'] \n",
    "                                            for data in annotated_data[(dialog_id, session)]['data']['dialogue']]\n",
    "        speakers = {'facts_s1': 'bot_0', 'facts_s2': 'bot_1'}\n",
    "        session_data['facts'] = dict()\n",
    "        for fact in annotated_data[(dialog_id, session)]['annotations'][0]['result']:\n",
    "            if fact['from_name'] in speakers:\n",
    "                session_data['facts'][speakers.pop(fact['from_name'])] = fact['value']['choices']\n",
    "        session_data['context'] = summaries[(dialog_id, session)]['annotations'][0]['result'][0]['value']['text'][0]\n",
    "        dataset[dialog_id][session] = session_data"
   ]
  },
  {
   "cell_type": "code",
   "execution_count": 63,
   "id": "446d9306-2f83-41a0-8392-8c701d09f4a3",
   "metadata": {},
   "outputs": [],
   "source": [
    "with open('dialog_dataset.json', 'w') as f:\n",
    "    json.dump(dataset, f)"
   ]
  },
  {
   "cell_type": "code",
   "execution_count": 67,
   "id": "062ec014-cf92-4554-9414-2e0d40bc8e01",
   "metadata": {},
   "outputs": [
    {
     "data": {
      "text/plain": [
       "{'bot_0': ['Bot_0 is enthusiastic about the Archey Center.',\n",
       "  'Bot_0 enjoys going to the Archey Center every hour and kind of.',\n",
       "  'Bot_0 likes to ride bikes.',\n",
       "  'Bot_0 is excited about a new job.',\n",
       "  'Bot_0 will be cleaning gutters outside.',\n",
       "  'Bot_0 enjoys riding bikes for fun.'],\n",
       " 'bot_1': ['bot_1 enjoys sewing as a hobby to keep the voices at bay.']}"
      ]
     },
     "execution_count": 67,
     "metadata": {},
     "output_type": "execute_result"
    }
   ],
   "source": [
    "dataset['train:ordered_1234']['session_1']['facts']"
   ]
  }
 ],
 "metadata": {
  "kernelspec": {
   "display_name": "Python 3 (ipykernel)",
   "language": "python",
   "name": "python3"
  },
  "language_info": {
   "codemirror_mode": {
    "name": "ipython",
    "version": 3
   },
   "file_extension": ".py",
   "mimetype": "text/x-python",
   "name": "python",
   "nbconvert_exporter": "python",
   "pygments_lexer": "ipython3",
   "version": "3.9.13"
  }
 },
 "nbformat": 4,
 "nbformat_minor": 5
}
