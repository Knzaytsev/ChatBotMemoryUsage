{
 "cells": [
  {
   "cell_type": "code",
   "execution_count": 1,
   "id": "61c1ee34-6116-4d76-bbb2-dab8330ef4f7",
   "metadata": {},
   "outputs": [],
   "source": [
    "# !pip install transformers\n",
    "# !pip install optuna"
   ]
  },
  {
   "cell_type": "code",
   "execution_count": 1,
   "id": "16d64f59-cbb6-4ffe-b642-bc08f572d56e",
   "metadata": {},
   "outputs": [
    {
     "name": "stderr",
     "output_type": "stream",
     "text": [
      "Some weights of the model checkpoint at mrm8488/t5-base-finetuned-summarize-news were not used when initializing T5EncoderModel: ['decoder.block.6.layer.2.DenseReluDense.wo.weight', 'decoder.block.11.layer.1.EncDecAttention.o.weight', 'decoder.block.0.layer.1.EncDecAttention.v.weight', 'decoder.block.2.layer.0.SelfAttention.o.weight', 'decoder.block.4.layer.1.EncDecAttention.v.weight', 'decoder.block.4.layer.1.layer_norm.weight', 'decoder.block.2.layer.2.layer_norm.weight', 'decoder.block.6.layer.2.layer_norm.weight', 'decoder.block.7.layer.1.layer_norm.weight', 'decoder.block.11.layer.2.layer_norm.weight', 'decoder.block.5.layer.1.EncDecAttention.q.weight', 'decoder.block.10.layer.1.EncDecAttention.o.weight', 'decoder.block.3.layer.0.SelfAttention.k.weight', 'decoder.block.0.layer.0.SelfAttention.q.weight', 'lm_head.weight', 'decoder.block.1.layer.1.EncDecAttention.o.weight', 'decoder.block.2.layer.0.SelfAttention.q.weight', 'decoder.block.8.layer.2.layer_norm.weight', 'decoder.block.5.layer.1.EncDecAttention.k.weight', 'decoder.block.7.layer.0.SelfAttention.q.weight', 'decoder.block.9.layer.2.DenseReluDense.wo.weight', 'decoder.block.10.layer.1.EncDecAttention.v.weight', 'decoder.block.5.layer.0.SelfAttention.o.weight', 'decoder.block.8.layer.1.layer_norm.weight', 'decoder.block.11.layer.2.DenseReluDense.wo.weight', 'decoder.block.0.layer.1.EncDecAttention.q.weight', 'decoder.block.4.layer.2.layer_norm.weight', 'decoder.block.4.layer.1.EncDecAttention.q.weight', 'decoder.block.3.layer.1.EncDecAttention.k.weight', 'decoder.embed_tokens.weight', 'decoder.block.3.layer.2.DenseReluDense.wi.weight', 'decoder.block.10.layer.2.DenseReluDense.wi.weight', 'decoder.block.6.layer.0.SelfAttention.q.weight', 'decoder.block.0.layer.1.EncDecAttention.k.weight', 'decoder.block.6.layer.0.SelfAttention.v.weight', 'decoder.block.9.layer.1.EncDecAttention.o.weight', 'decoder.block.9.layer.0.SelfAttention.q.weight', 'decoder.block.5.layer.2.layer_norm.weight', 'decoder.block.3.layer.1.EncDecAttention.o.weight', 'decoder.block.1.layer.1.layer_norm.weight', 'decoder.block.0.layer.0.SelfAttention.k.weight', 'decoder.block.2.layer.0.SelfAttention.v.weight', 'decoder.block.8.layer.2.DenseReluDense.wi.weight', 'decoder.block.6.layer.0.SelfAttention.o.weight', 'decoder.block.0.layer.0.SelfAttention.o.weight', 'decoder.block.2.layer.1.layer_norm.weight', 'decoder.block.11.layer.0.SelfAttention.o.weight', 'decoder.final_layer_norm.weight', 'decoder.block.0.layer.2.DenseReluDense.wi.weight', 'decoder.block.9.layer.0.SelfAttention.v.weight', 'decoder.block.7.layer.1.EncDecAttention.o.weight', 'decoder.block.8.layer.0.layer_norm.weight', 'decoder.block.8.layer.1.EncDecAttention.o.weight', 'decoder.block.5.layer.0.SelfAttention.k.weight', 'decoder.block.10.layer.2.DenseReluDense.wo.weight', 'decoder.block.7.layer.0.SelfAttention.o.weight', 'decoder.block.10.layer.0.SelfAttention.v.weight', 'decoder.block.0.layer.1.layer_norm.weight', 'decoder.block.3.layer.0.SelfAttention.q.weight', 'decoder.block.6.layer.0.layer_norm.weight', 'decoder.block.2.layer.2.DenseReluDense.wo.weight', 'decoder.block.5.layer.2.DenseReluDense.wi.weight', 'decoder.block.5.layer.1.EncDecAttention.v.weight', 'decoder.block.8.layer.1.EncDecAttention.k.weight', 'decoder.block.10.layer.1.EncDecAttention.k.weight', 'decoder.block.11.layer.2.DenseReluDense.wi.weight', 'decoder.block.4.layer.2.DenseReluDense.wi.weight', 'decoder.block.2.layer.0.layer_norm.weight', 'decoder.block.3.layer.0.SelfAttention.v.weight', 'decoder.block.0.layer.2.DenseReluDense.wo.weight', 'decoder.block.11.layer.0.SelfAttention.k.weight', 'decoder.block.4.layer.2.DenseReluDense.wo.weight', 'decoder.block.2.layer.1.EncDecAttention.o.weight', 'decoder.block.5.layer.0.layer_norm.weight', 'decoder.block.4.layer.0.SelfAttention.v.weight', 'decoder.block.7.layer.2.DenseReluDense.wo.weight', 'decoder.block.8.layer.0.SelfAttention.v.weight', 'decoder.block.6.layer.1.EncDecAttention.o.weight', 'decoder.block.9.layer.1.layer_norm.weight', 'decoder.block.7.layer.0.layer_norm.weight', 'decoder.block.0.layer.0.SelfAttention.v.weight', 'decoder.block.9.layer.1.EncDecAttention.v.weight', 'decoder.block.1.layer.0.layer_norm.weight', 'decoder.block.2.layer.1.EncDecAttention.v.weight', 'decoder.block.7.layer.0.SelfAttention.k.weight', 'decoder.block.11.layer.1.EncDecAttention.k.weight', 'decoder.block.9.layer.0.SelfAttention.k.weight', 'decoder.block.6.layer.0.SelfAttention.k.weight', 'decoder.block.9.layer.0.layer_norm.weight', 'decoder.block.1.layer.0.SelfAttention.o.weight', 'decoder.block.10.layer.2.layer_norm.weight', 'decoder.block.3.layer.2.DenseReluDense.wo.weight', 'decoder.block.4.layer.0.SelfAttention.q.weight', 'decoder.block.1.layer.2.DenseReluDense.wo.weight', 'decoder.block.10.layer.0.SelfAttention.q.weight', 'decoder.block.11.layer.0.SelfAttention.v.weight', 'decoder.block.6.layer.1.EncDecAttention.k.weight', 'decoder.block.0.layer.0.layer_norm.weight', 'decoder.block.1.layer.1.EncDecAttention.q.weight', 'decoder.block.10.layer.0.layer_norm.weight', 'decoder.block.3.layer.2.layer_norm.weight', 'decoder.block.11.layer.1.EncDecAttention.v.weight', 'decoder.block.2.layer.2.DenseReluDense.wi.weight', 'decoder.block.3.layer.0.SelfAttention.o.weight', 'decoder.block.9.layer.2.DenseReluDense.wi.weight', 'decoder.block.1.layer.1.EncDecAttention.k.weight', 'decoder.block.8.layer.1.EncDecAttention.q.weight', 'decoder.block.1.layer.2.layer_norm.weight', 'decoder.block.0.layer.2.layer_norm.weight', 'decoder.block.1.layer.0.SelfAttention.k.weight', 'decoder.block.2.layer.1.EncDecAttention.q.weight', 'decoder.block.9.layer.0.SelfAttention.o.weight', 'decoder.block.8.layer.0.SelfAttention.k.weight', 'decoder.block.10.layer.1.EncDecAttention.q.weight', 'decoder.block.0.layer.1.EncDecAttention.o.weight', 'decoder.block.8.layer.1.EncDecAttention.v.weight', 'decoder.block.7.layer.1.EncDecAttention.v.weight', 'decoder.block.6.layer.1.EncDecAttention.v.weight', 'decoder.block.2.layer.1.EncDecAttention.k.weight', 'decoder.block.4.layer.0.layer_norm.weight', 'decoder.block.11.layer.0.SelfAttention.q.weight', 'decoder.block.0.layer.1.EncDecAttention.relative_attention_bias.weight', 'decoder.block.2.layer.0.SelfAttention.k.weight', 'decoder.block.7.layer.1.EncDecAttention.q.weight', 'decoder.block.3.layer.1.EncDecAttention.q.weight', 'decoder.block.7.layer.2.layer_norm.weight', 'decoder.block.7.layer.2.DenseReluDense.wi.weight', 'decoder.block.3.layer.0.layer_norm.weight', 'decoder.block.8.layer.2.DenseReluDense.wo.weight', 'decoder.block.11.layer.1.layer_norm.weight', 'decoder.block.5.layer.2.DenseReluDense.wo.weight', 'decoder.block.9.layer.1.EncDecAttention.q.weight', 'decoder.block.8.layer.0.SelfAttention.q.weight', 'decoder.block.9.layer.2.layer_norm.weight', 'decoder.block.10.layer.0.SelfAttention.k.weight', 'decoder.block.4.layer.1.EncDecAttention.k.weight', 'decoder.block.3.layer.1.EncDecAttention.v.weight', 'decoder.block.5.layer.0.SelfAttention.v.weight', 'decoder.block.5.layer.1.EncDecAttention.o.weight', 'decoder.block.1.layer.0.SelfAttention.q.weight', 'decoder.block.1.layer.2.DenseReluDense.wi.weight', 'decoder.block.6.layer.1.layer_norm.weight', 'decoder.block.9.layer.1.EncDecAttention.k.weight', 'decoder.block.0.layer.0.SelfAttention.relative_attention_bias.weight', 'decoder.block.6.layer.2.DenseReluDense.wi.weight', 'decoder.block.1.layer.0.SelfAttention.v.weight', 'decoder.block.4.layer.0.SelfAttention.o.weight', 'decoder.block.7.layer.1.EncDecAttention.k.weight', 'decoder.block.4.layer.0.SelfAttention.k.weight', 'decoder.block.3.layer.1.layer_norm.weight', 'decoder.block.1.layer.1.EncDecAttention.v.weight', 'decoder.block.8.layer.0.SelfAttention.o.weight', 'decoder.block.6.layer.1.EncDecAttention.q.weight', 'decoder.block.4.layer.1.EncDecAttention.o.weight', 'decoder.block.7.layer.0.SelfAttention.v.weight', 'decoder.block.5.layer.1.layer_norm.weight', 'decoder.block.10.layer.1.layer_norm.weight', 'decoder.block.10.layer.0.SelfAttention.o.weight', 'decoder.block.11.layer.1.EncDecAttention.q.weight', 'decoder.block.11.layer.0.layer_norm.weight', 'decoder.block.5.layer.0.SelfAttention.q.weight']\n",
      "- This IS expected if you are initializing T5EncoderModel from the checkpoint of a model trained on another task or with another architecture (e.g. initializing a BertForSequenceClassification model from a BertForPreTraining model).\n",
      "- This IS NOT expected if you are initializing T5EncoderModel from the checkpoint of a model that you expect to be exactly identical (initializing a BertForSequenceClassification model from a BertForSequenceClassification model).\n"
     ]
    }
   ],
   "source": [
    "import os\n",
    "os.environ[\"TOKENIZERS_PARALLELISM\"] = \"false\"\n",
    "import torch\n",
    "import torch.nn as nn\n",
    "import torch.nn.functional as F\n",
    "from torch import Tensor\n",
    "from transformers import AutoTokenizer, AutoConfig, AutoModelForCausalLM, T5EncoderModel\n",
    "from sklearn.metrics import f1_score, accuracy_score, precision_score, recall_score, roc_auc_score\n",
    "import re\n",
    "import matplotlib.pyplot as plt\n",
    "from random import sample\n",
    "\n",
    "device = \"mps\"\n",
    "\n",
    "model = T5EncoderModel.from_pretrained('mrm8488/t5-base-finetuned-summarize-news').to(device)\n",
    "tokenizer = AutoTokenizer.from_pretrained('mrm8488/t5-base-finetuned-summarize-news')"
   ]
  },
  {
   "cell_type": "code",
   "execution_count": 2,
   "id": "175d89c1-36af-4119-886e-cf4af9be4d98",
   "metadata": {},
   "outputs": [],
   "source": [
    "for param in model.parameters():\n",
    "    param.requires_grad = False"
   ]
  },
  {
   "cell_type": "code",
   "execution_count": 3,
   "id": "5a5cd24f-7869-434d-abbc-298593850b55",
   "metadata": {},
   "outputs": [],
   "source": [
    "def tensor_masking(tensor: Tensor, mask: Tensor, value: float = 0.0) -> Tensor:\n",
    "    return tensor.masked_fill((~(mask.bool())).unsqueeze(-1), value)\n",
    "\n",
    "class GlobalMaskedPooling(nn.Module):\n",
    "\n",
    "    POOLING_TYPES = (\"mean\", \"max\")\n",
    "\n",
    "    def __init__(\n",
    "        self,\n",
    "        pooling_type: str = \"mean\",\n",
    "        dim: int = 1,\n",
    "        normalize: bool = False,\n",
    "        length_scaling: bool = False,\n",
    "        scaling_square_root: bool = False,\n",
    "        embedding_masking: bool = True,\n",
    "    ):\n",
    "        super().__init__()\n",
    "\n",
    "        if pooling_type not in self.POOLING_TYPES:\n",
    "            raise ValueError(\n",
    "                f\"{pooling_type} - is unavailable type.\" f' Available types: {\", \".join(self.POOLING_TYPES)}'\n",
    "            )\n",
    "\n",
    "        if dim < 0:\n",
    "            raise ValueError(\"Dimension (dim parameter) must be greater than zero\")\n",
    "\n",
    "        self.pooling_type = pooling_type\n",
    "        self.dim = dim\n",
    "\n",
    "        self.normalize = normalize\n",
    "        self.length_scaling = length_scaling\n",
    "        self.scaling_square_root = scaling_square_root\n",
    "\n",
    "        self.embedding_masking = embedding_masking\n",
    "\n",
    "        if self.pooling_type == \"max\":\n",
    "            self.mask_value = -float(\"inf\")\n",
    "        else:\n",
    "            self.mask_value = 0.0\n",
    "\n",
    "    def forward(self, tensor: Tensor, pad_mask: Tensor) -> Tensor:\n",
    "        lengths = pad_mask.sum(self.dim).float()\n",
    "\n",
    "        if self.embedding_masking:\n",
    "            tensor = tensor_masking(tensor, pad_mask, value=self.mask_value)\n",
    "\n",
    "        if self.pooling_type == \"mean\":\n",
    "            scaling = tensor.size(self.dim) / lengths\n",
    "        else:\n",
    "            scaling = torch.ones(tensor.size(0), device=tensor.device)\n",
    "\n",
    "        if self.length_scaling:\n",
    "            lengths_factor = lengths\n",
    "            if self.scaling_square_root:\n",
    "                lengths_factor = lengths_factor**0.5\n",
    "            scaling /= lengths_factor\n",
    "\n",
    "        scaling = scaling.masked_fill(lengths == 0, 1.0).unsqueeze(-1)\n",
    "\n",
    "        if self.pooling_type == \"mean\":\n",
    "            tensor = tensor.mean(self.dim)\n",
    "        else:\n",
    "            tensor, _ = tensor.max(self.dim)\n",
    "\n",
    "        tensor *= scaling\n",
    "\n",
    "        if self.normalize:\n",
    "            tensor = F.normalize(tensor)\n",
    "\n",
    "        return tensor\n",
    "\n",
    "    def extra_repr(self) -> str:\n",
    "\n",
    "        description = [\n",
    "            f'pooling_type=\"{self.pooling_type}\"',\n",
    "            f\"normalize={self.normalize}\",\n",
    "            f\"length_scaling={self.length_scaling}\",\n",
    "            f\"scaling_square_root={self.scaling_square_root}\",\n",
    "        ]\n",
    "\n",
    "        description_message = \",\\n\".join(description)\n",
    "\n",
    "        return"
   ]
  },
  {
   "cell_type": "code",
   "execution_count": 4,
   "id": "3c7669d8-2afb-49e3-b6aa-dff875c12186",
   "metadata": {},
   "outputs": [],
   "source": [
    "import json\n",
    "\n",
    "with open('speakers_facts.json', 'r') as f:\n",
    "    annotated_data = json.loads(f.read())"
   ]
  },
  {
   "cell_type": "code",
   "execution_count": 5,
   "id": "ada08ddc-5f76-40d8-b704-b3c324bcd42b",
   "metadata": {},
   "outputs": [],
   "source": [
    "remove_blank_facts = lambda x: [fact for fact in x if len(fact) >= 7 or not fact.endswith(':')]\n",
    "preprocess_fact = lambda x: re.sub(r'^[\\*\\d]+\\.?\\s+', '', x)\n",
    "speaker_mapper = {'facts_s1': 's1', 'facts_s2': 's2'}\n",
    "\n",
    "annotated_data = [{\n",
    "    'dialog': dialog['data']['dialogue'], \n",
    "    'correct_facts': {speaker_mapper[facts['from_name']]: remove_blank_facts([preprocess_fact(fact) for fact in facts['value']['choices']])\n",
    "                      for facts in dialog['annotations'][0]['result'] if facts['from_name'] in speaker_mapper.keys()},\n",
    "    'facts': {'s1': remove_blank_facts([preprocess_fact(fact['value']) for fact in dialog['data']['s1']]), \n",
    "              's2': remove_blank_facts([preprocess_fact(fact['value']) for fact in dialog['data']['s2']])},\n",
    "    'summary': dialog['data']['summary']\n",
    "        }\n",
    "    for dialog in annotated_data]"
   ]
  },
  {
   "cell_type": "code",
   "execution_count": 6,
   "id": "97ff282d-8031-4713-a98b-bc9dc124f30b",
   "metadata": {},
   "outputs": [],
   "source": [
    "speaker_mapper = {'s1': 'bot_0', 's2': 'bot_1'}\n",
    "\n",
    "facts_set = {'s1': [fact for data in annotated_data for fact in data['facts']['s1']], \n",
    "             's2': [fact for data in annotated_data for fact in data['facts']['s2']]}\n",
    "\n",
    "dataset = [{\n",
    "    'dialog': '\\n'.join([f'{phrase[\"author\"]}: {phrase[\"text\"]}' \n",
    "                         for phrase in dialog['dialog'] \n",
    "                        ]),\n",
    "    'speaker': speaker_mapper[speaker],\n",
    "    'fact': fact, \n",
    "    'target': fact in dialog['correct_facts'].get(speaker, []),\n",
    "    'summary': dialog['summary']\n",
    "} for dialog in annotated_data for speaker, facts in dialog['facts'].items() \n",
    "    for fact in facts]"
   ]
  },
  {
   "cell_type": "code",
   "execution_count": 7,
   "id": "8af55c2f-afd1-4cb1-af80-9941b548e04a",
   "metadata": {},
   "outputs": [
    {
     "data": {
      "text/plain": [
       "(1329.7666666666667, 677.7833333333333)"
      ]
     },
     "execution_count": 7,
     "metadata": {},
     "output_type": "execute_result"
    }
   ],
   "source": [
    "dialog_lens = []\n",
    "summary_lens = []\n",
    "\n",
    "for dialog in annotated_data:\n",
    "    dialog_lens.append(len('\\n'.join([f'{phrase[\"author\"]}: {phrase[\"text\"]}' \n",
    "                         for phrase in dialog['dialog'] \n",
    "                        ])))\n",
    "    if len(dialog['summary']) > 10:\n",
    "        summary_lens.append(len(dialog['summary']))\n",
    "    \n",
    "sum(dialog_lens) / len(dialog_lens), sum(summary_lens) / len(summary_lens)"
   ]
  },
  {
   "cell_type": "code",
   "execution_count": 8,
   "id": "2978efd8-d357-4c4f-9ef4-a45e44e59dba",
   "metadata": {},
   "outputs": [
    {
     "data": {
      "image/png": "[encoded data removed]",
      "text/plain": [
       "<Figure size 640x480 with 1 Axes>"
      ]
     },
     "metadata": {},
     "output_type": "display_data"
    }
   ],
   "source": [
    "plt.hist(dialog_lens)\n",
    "plt.show()"
   ]
  },
  {
   "cell_type": "code",
   "execution_count": 9,
   "id": "34b67f36-803a-44aa-a98b-db82bd353358",
   "metadata": {},
   "outputs": [
    {
     "data": {
      "image/png": "[encoded data removed]",
      "text/plain": [
       "<Figure size 640x480 with 1 Axes>"
      ]
     },
     "metadata": {},
     "output_type": "display_data"
    }
   ],
   "source": [
    "plt.hist(summary_lens)\n",
    "plt.show()"
   ]
  },
  {
   "cell_type": "code",
   "execution_count": 10,
   "id": "ae49a217-fc34-48c0-8a59-884a8716de65",
   "metadata": {},
   "outputs": [],
   "source": [
    "from torch.utils.data import Dataset, DataLoader\n",
    "\n",
    "class ClassifierDataset(Dataset):\n",
    "\n",
    "    def __init__(self, data):\n",
    "        super().__init__()\n",
    "\n",
    "        self.data = data\n",
    "\n",
    "    def __len__(self):\n",
    "        return len(self.data)\n",
    "\n",
    "    def __getitem__(self, index):\n",
    "\n",
    "        sample = self.data[index]\n",
    "\n",
    "        context = '\\n\\n'.join(['\\n'.join([f'Fact about {sample[\"speaker\"]}:', sample['fact']]),\n",
    "                               sample['dialog'], ])\n",
    "        \n",
    "        target = sample['target']\n",
    "\n",
    "        return context, target"
   ]
  },
  {
   "cell_type": "code",
   "execution_count": 11,
   "id": "d6d7026e-e55e-4335-a516-e720d0935b16",
   "metadata": {},
   "outputs": [],
   "source": [
    "class Collator:\n",
    "\n",
    "    def __init__(self, tokenizer, max_length=2048):\n",
    "\n",
    "        self.tokenizer = tokenizer\n",
    "\n",
    "        self.max_length = max_length\n",
    "\n",
    "    def __call__(self, batch):\n",
    "\n",
    "        inputs = []\n",
    "        targets = []\n",
    "\n",
    "        for context, target in batch:\n",
    "            inputs.append(context)\n",
    "            targets.append(target)\n",
    "\n",
    "        tokenized_input = self.tokenizer(\n",
    "            inputs, \n",
    "            return_tensors=\"pt\",\n",
    "            truncation=True,\n",
    "            padding=True,\n",
    "            max_length=self.max_length,\n",
    "        )\n",
    "\n",
    "        return tokenized_input, torch.LongTensor(targets)"
   ]
  },
  {
   "cell_type": "code",
   "execution_count": 12,
   "id": "22b55180-a8e5-4bcb-bfae-0ba803f6ebeb",
   "metadata": {},
   "outputs": [],
   "source": [
    "from random import sample\n",
    "\n",
    "BATCH_SIZE = 8\n",
    "\n",
    "train_dataset = ClassifierDataset(data=dataset[:int(len(dataset)*.8)])\n",
    "valid_dataset = ClassifierDataset(data=dataset[int(len(dataset)*.8):])\n",
    "\n",
    "collator = Collator(tokenizer=tokenizer)\n",
    "\n",
    "train_loader = DataLoader(train_dataset, batch_size=BATCH_SIZE, collate_fn=collator, shuffle=True)\n",
    "valid_loader = DataLoader(valid_dataset, batch_size=BATCH_SIZE, collate_fn=collator, shuffle=True)"
   ]
  },
  {
   "cell_type": "code",
   "execution_count": 15,
   "id": "d26b3fb0-e672-4e01-8ca5-9c6a9ae3cb6b",
   "metadata": {},
   "outputs": [],
   "source": [
    "from tqdm import tqdm\n",
    "import numpy as np\n",
    "\n",
    "def loop(n_epoch, is_train, criterion, optimizer, model, loader, grad_acum_steps=1):\n",
    "    \n",
    "    global_step = len(loader) // grad_acum_steps * n_epoch\n",
    "\n",
    "\n",
    "    all_predictions = list()\n",
    "    all_targets = list()\n",
    "\n",
    "    losses = list()\n",
    "    f1_scores = list()\n",
    "    accuracies = list()\n",
    "    rocs = list()\n",
    "\n",
    "    progress_bar = tqdm(total=len(loader) // grad_acum_steps, desc=\"Train\" if is_train else \"Valid\")\n",
    "\n",
    "    if is_train:\n",
    "        model.train()\n",
    "    else:\n",
    "        model.eval()\n",
    "\n",
    "    losses = list()\n",
    "\n",
    "    for n_step, (batch, targets) in enumerate(loader):\n",
    "\n",
    "        batch = batch.to(model.device)\n",
    "        targets = targets.to(model.device)\n",
    "\n",
    "        if is_train:\n",
    "            optimizer.zero_grad()\n",
    "            logits = model(batch, batch.attention_mask)\n",
    "        else:\n",
    "            with torch.no_grad():\n",
    "                logits = model(batch, batch.attention_mask)\n",
    "\n",
    "        loss = criterion(logits, targets)\n",
    "\n",
    "        f1_scores.append(f1_score(targets.detach().cpu(), \n",
    "                                  logits.detach().cpu().argmax(1), \n",
    "                                  zero_division=False))\n",
    "        accuracies.append(accuracy_score(targets.detach().cpu(), \n",
    "                                         logits.detach().cpu().argmax(1)))\n",
    "        \n",
    "        try:\n",
    "            rocs.append(roc_auc_score(targets.detach().cpu(), \n",
    "                                      F.softmax(logits.detach().cpu(), dim=1)[:, 1]))\n",
    "        except:\n",
    "            rocs.append(0)\n",
    "            pass\n",
    "        \n",
    "        losses.append(loss.item())\n",
    "\n",
    "        if is_train:\n",
    "            loss.backward()\n",
    "            torch.nn.utils.clip_grad_norm_(parameters=model.parameters(), max_norm=0.7)\n",
    "            optimizer.step()\n",
    "        progress_bar.update()\n",
    "        progress_bar.set_postfix(loss=np.mean(losses[-100:]), \n",
    "                                 f1_score=np.mean(f1_scores[-100:]),\n",
    "                                 accuracy=np.mean(accuracies[-100:]), \n",
    "                                 roc_auc=np.mean(rocs[-100:]))\n",
    "\n",
    "        global_step += 1\n",
    "\n",
    "\n",
    "    progress_bar.close()\n",
    "\n",
    "    return losses, f1_scores, accuracies, rocs"
   ]
  },
  {
   "cell_type": "code",
   "execution_count": 16,
   "id": "df152849-ea3c-4f10-91af-59d173330ac1",
   "metadata": {},
   "outputs": [],
   "source": [
    "class ResidualLayer(nn.Module):\n",
    "    \n",
    "    def __init__(self, in_features, hidden_features):\n",
    "\n",
    "        # Вызываем __init__ родителя - torch.nn.Module\n",
    "        super().__init__()\n",
    "        \n",
    "        # определяем слои и все что захотим сохранять/использовать\n",
    "        self.linear_1 = torch.nn.Linear(in_features=in_features, out_features=hidden_features)\n",
    "        self.relu_1 = torch.nn.ReLU()\n",
    "        self.linear_2 = torch.nn.Linear(in_features=hidden_features, out_features=in_features)\n",
    "        self.relu_2 = torch.nn.ReLU()\n",
    "\n",
    "    def forward(self, x):\n",
    "        residual = x.clone()\n",
    "        \n",
    "        x = self.relu_1(self.linear_1(x))\n",
    "        x = self.relu_2(self.linear_2(x))\n",
    "\n",
    "        x = x + residual\n",
    "\n",
    "        return x"
   ]
  },
  {
   "cell_type": "code",
   "execution_count": 17,
   "id": "31a58b74-c027-4d86-9de0-ffcc92d7f347",
   "metadata": {},
   "outputs": [],
   "source": [
    "class Classifier(nn.Module):\n",
    "    def __init__(self, lang_model, pooling, dropout, n_classes):\n",
    "        super().__init__()\n",
    "        self.lang_model = lang_model\n",
    "        self.device = lang_model.device\n",
    "        self.pooling = pooling\n",
    "        self.batch_norm = nn.BatchNorm1d(lang_model.config.d_model)\n",
    "        self.dropout = nn.Dropout(dropout)\n",
    "        self.relu = nn.ReLU()\n",
    "        # self.res_layer = ResidualLayer(lang_model.config.d_model, lang_model.config.d_model // 2)\n",
    "        self.linear = nn.Linear(lang_model.config.d_model, n_classes)\n",
    "\n",
    "    def forward(self, X, attention):\n",
    "        X = self.lang_model(**X)\n",
    "        X = self.pooling(X.last_hidden_state, attention)\n",
    "        X = self.dropout(X)\n",
    "        # X = self.batch_norm(X)\n",
    "        # X = self.relu(X)\n",
    "        # X = self.res_layer(X)\n",
    "        X = self.linear(X)\n",
    "        return X"
   ]
  },
  {
   "cell_type": "code",
   "execution_count": 18,
   "id": "2112ab6b-593d-430e-9ce3-719245a005f6",
   "metadata": {},
   "outputs": [],
   "source": [
    "import optuna\n",
    "from optuna.trial import TrialState\n",
    "\n",
    "def define_model(trial):\n",
    "    pooling_type = \"mean\"\n",
    "    dropout = trial.suggest_float(\"dropout\", .1, .7)\n",
    "    normalize = trial.suggest_int(\"normalize\", False, True)\n",
    "    embedding_masking = trial.suggest_int(\"embedding_masking\", False, True)\n",
    "\n",
    "    pooling = GlobalMaskedPooling(pooling_type=pooling_type, normalize=normalize, \n",
    "                                  embedding_masking=embedding_masking)\n",
    "    classifier = Classifier(model, pooling, dropout, 2)\n",
    "    return classifier\n",
    "\n",
    "def get_dataset_loaders():\n",
    "    train_dataset = ClassifierDataset(data=dataset[:int(len(dataset)*.8)])\n",
    "    valid_dataset = ClassifierDataset(data=dataset[int(len(dataset)*.8):])\n",
    "\n",
    "    collator = Collator(tokenizer=tokenizer)\n",
    "\n",
    "    train_loader = DataLoader(train_dataset, batch_size=BATCH_SIZE, collate_fn=collator, shuffle=True)\n",
    "    valid_loader = DataLoader(valid_dataset, batch_size=BATCH_SIZE, collate_fn=collator, shuffle=True)\n",
    "\n",
    "    return train_loader, valid_loader\n",
    "\n",
    "def objective(trial):\n",
    "    model = define_model(trial).to('mps')\n",
    "\n",
    "    lr = trial.suggest_float(\"lr\", 1e-7, 1e-3, log=True)\n",
    "    optimizer = torch.optim.AdamW(params=model.parameters(), lr=lr)\n",
    "\n",
    "    criterion = nn.CrossEntropyLoss()\n",
    "\n",
    "    train_loader, valid_loader = get_dataset_loaders()\n",
    "\n",
    "    # Training of the model.\n",
    "    for epoch in range(5):\n",
    "        model.train()\n",
    "        for batch_idx, (data, target) in enumerate(train_loader):\n",
    "            data = data.to(model.device)\n",
    "            target = target.to(model.device)\n",
    "\n",
    "            optimizer.zero_grad()\n",
    "            output = model(data, data.attention_mask)\n",
    "            loss = criterion(output, target)\n",
    "            loss.backward()\n",
    "            optimizer.step()\n",
    "\n",
    "        # Validation of the model.\n",
    "        model.eval()\n",
    "        correct = 0\n",
    "        f1_scores = list()\n",
    "        outputs = list()\n",
    "        targets = list()\n",
    "        with torch.no_grad():\n",
    "            for batch_idx, (data, target) in enumerate(valid_loader):\n",
    "                data = data.to(model.device)\n",
    "                target = target.to(model.device)\n",
    "\n",
    "                output = model(data, data.attention_mask)\n",
    "                # Get the index of the max log-probability.\n",
    "                pred = output.detach().cpu().argmax(dim=1, keepdim=True)\n",
    "                correct += pred.eq(target.detach().cpu().view_as(pred)).sum().item()\n",
    "                \n",
    "                outputs.extend(F.softmax(output.detach().cpu(), dim=1)[:, 1])\n",
    "                targets.extend(target.detach().cpu())\n",
    "\n",
    "        accuracy = correct / len(valid_loader.dataset)\n",
    "        # f1 = f1_score(targets, outputs)\n",
    "        roc_auc = 0\n",
    "        try:\n",
    "            roc_auc = roc_auc_score(targets, outputs)\n",
    "        except Exception as e:\n",
    "            print(e)\n",
    "            pass\n",
    "\n",
    "        trial.report(roc_auc, epoch)\n",
    "\n",
    "        # Handle pruning based on the intermediate value.\n",
    "        if trial.should_prune():\n",
    "            raise optuna.exceptions.TrialPruned()\n",
    "\n",
    "    return roc_auc"
   ]
  },
  {
   "cell_type": "code",
   "execution_count": 19,
   "id": "28362819-060d-4ef2-8751-8506ab4ad55b",
   "metadata": {},
   "outputs": [
    {
     "name": "stderr",
     "output_type": "stream",
     "text": [
      "\u001b[32m[I 2023-05-03 13:12:04,664]\u001b[0m A new study created in memory with name: no-name-0253ab93-574d-4dde-9fce-fb7e2ba65708\u001b[0m\n",
      "\u001b[32m[I 2023-05-03 13:27:39,219]\u001b[0m Trial 0 finished with value: 0.551769406392694 and parameters: {'dropout': 0.2694027612062093, 'normalize': 1, 'embedding_masking': 1, 'lr': 2.0697744904162145e-05}. Best is trial 0 with value: 0.551769406392694.\u001b[0m\n",
      "\u001b[32m[I 2023-05-03 13:40:52,666]\u001b[0m Trial 1 finished with value: 0.49556697108066966 and parameters: {'dropout': 0.21286946415114094, 'normalize': 1, 'embedding_masking': 1, 'lr': 3.0326046277227664e-07}. Best is trial 0 with value: 0.551769406392694.\u001b[0m\n",
      "\u001b[32m[I 2023-05-03 13:53:22,706]\u001b[0m Trial 2 finished with value: 0.5087328767123288 and parameters: {'dropout': 0.5627414317090125, 'normalize': 1, 'embedding_masking': 1, 'lr': 0.00010652828200157199}. Best is trial 0 with value: 0.551769406392694.\u001b[0m\n",
      "\u001b[32m[I 2023-05-03 14:05:39,429]\u001b[0m Trial 3 finished with value: 0.529337899543379 and parameters: {'dropout': 0.4502246220906928, 'normalize': 0, 'embedding_masking': 0, 'lr': 0.0002304710335288581}. Best is trial 0 with value: 0.551769406392694.\u001b[0m\n",
      "\u001b[32m[I 2023-05-03 14:18:02,810]\u001b[0m Trial 4 finished with value: 0.5263698630136986 and parameters: {'dropout': 0.3789611580542922, 'normalize': 1, 'embedding_masking': 0, 'lr': 8.174778207670573e-06}. Best is trial 0 with value: 0.551769406392694.\u001b[0m\n"
     ]
    },
    {
     "name": "stdout",
     "output_type": "stream",
     "text": [
      "Study statistics: \n",
      "  Number of finished trials:  5\n",
      "  Number of pruned trials:  0\n",
      "  Number of complete trials:  5\n",
      "Best trial:\n",
      "  Value:  0.551769406392694\n",
      "  Params: \n"
     ]
    },
    {
     "data": {
      "text/plain": [
       "{'dropout': 0.2694027612062093,\n",
       " 'normalize': 1,\n",
       " 'embedding_masking': 1,\n",
       " 'lr': 2.0697744904162145e-05}"
      ]
     },
     "execution_count": 19,
     "metadata": {},
     "output_type": "execute_result"
    }
   ],
   "source": [
    "study = optuna.create_study(direction=\"maximize\")\n",
    "study.optimize(objective, n_trials=5, timeout=6000)\n",
    "\n",
    "pruned_trials = study.get_trials(deepcopy=False, states=[TrialState.PRUNED])\n",
    "complete_trials = study.get_trials(deepcopy=False, states=[TrialState.COMPLETE])\n",
    "\n",
    "print(\"Study statistics: \")\n",
    "print(\"  Number of finished trials: \", len(study.trials))\n",
    "print(\"  Number of pruned trials: \", len(pruned_trials))\n",
    "print(\"  Number of complete trials: \", len(complete_trials))\n",
    "\n",
    "print(\"Best trial:\")\n",
    "trial = study.best_trial\n",
    "\n",
    "print(\"  Value: \", trial.value)\n",
    "\n",
    "print(\"  Params: \")\n",
    "trial.params"
   ]
  },
  {
   "cell_type": "code",
   "execution_count": 20,
   "id": "f1624b97-af39-4b75-aa51-763994741db9",
   "metadata": {},
   "outputs": [],
   "source": [
    "params = {'dropout': 0.2694027612062093,\n",
    " 'normalize': 1,\n",
    " 'embedding_masking': 1,\n",
    " 'lr': 2.0697744904162145e-05}\n",
    "\n",
    "pooling = GlobalMaskedPooling(normalize=params['normalize'], \n",
    "                              embedding_masking=params['embedding_masking'])\n",
    "classifier = Classifier(model, pooling, params['dropout'], 2).to(device)"
   ]
  },
  {
   "cell_type": "code",
   "execution_count": 21,
   "id": "0106afde-6407-4fc7-9dc5-8f4af3837e48",
   "metadata": {},
   "outputs": [],
   "source": [
    "criterion = nn.CrossEntropyLoss()\n",
    "\n",
    "\n",
    "optimizer = torch.optim.AdamW(params=classifier.parameters(), lr=params['lr'])"
   ]
  },
  {
   "cell_type": "code",
   "execution_count": 22,
   "id": "c42f6680-d089-40d3-9971-28eabf273b30",
   "metadata": {},
   "outputs": [
    {
     "name": "stderr",
     "output_type": "stream",
     "text": [
      "Train: 100%|██████████| 170/170 [02:19<00:00,  1.22it/s, accuracy=0.609, f1_score=0.733, loss=0.689, roc_auc=0.515]\n",
      "Valid: 100%|██████████| 43/43 [00:32<00:00,  1.31it/s, accuracy=0.641, f1_score=0.769, loss=0.687, roc_auc=0.462]\n"
     ]
    },
    {
     "name": "stdout",
     "output_type": "stream",
     "text": [
      "Epoch 0 done\n",
      "\n",
      "Train\n",
      "\tLoss: 0.691\n",
      "\tF1-score: 0.636\n",
      "\tAccuracy: 0.558\n",
      "\tROC AUC: 0.499\n",
      "Valid\n",
      "\tLoss: 0.687\n",
      "\tF1-score: 0.769\n",
      "\tAccuracy: 0.641\n",
      "\tROC AUC: 0.462\n"
     ]
    },
    {
     "name": "stderr",
     "output_type": "stream",
     "text": [
      "Train: 100%|██████████| 170/170 [02:12<00:00,  1.28it/s, accuracy=0.647, f1_score=0.772, loss=0.681, roc_auc=0.456]\n",
      "Valid: 100%|██████████| 43/43 [00:23<00:00,  1.82it/s, accuracy=0.651, f1_score=0.776, loss=0.679, roc_auc=0.429]\n"
     ]
    },
    {
     "name": "stdout",
     "output_type": "stream",
     "text": [
      "Epoch 1 done\n",
      "\n",
      "Train\n",
      "\tLoss: 0.683\n",
      "\tF1-score: 0.769\n",
      "\tAccuracy: 0.643\n",
      "\tROC AUC: 0.466\n",
      "Valid\n",
      "\tLoss: 0.679\n",
      "\tF1-score: 0.776\n",
      "\tAccuracy: 0.651\n",
      "\tROC AUC: 0.429\n"
     ]
    },
    {
     "name": "stderr",
     "output_type": "stream",
     "text": [
      "Train: 100%|██████████| 170/170 [02:08<00:00,  1.32it/s, accuracy=0.64, f1_score=0.764, loss=0.676, roc_auc=0.487] \n",
      "Valid: 100%|██████████| 43/43 [00:23<00:00,  1.81it/s, accuracy=0.651, f1_score=0.777, loss=0.673, roc_auc=0.43] \n"
     ]
    },
    {
     "name": "stdout",
     "output_type": "stream",
     "text": [
      "Epoch 2 done\n",
      "\n",
      "Train\n",
      "\tLoss: 0.676\n",
      "\tF1-score: 0.769\n",
      "\tAccuracy: 0.643\n",
      "\tROC AUC: 0.491\n",
      "Valid\n",
      "\tLoss: 0.673\n",
      "\tF1-score: 0.777\n",
      "\tAccuracy: 0.651\n",
      "\tROC AUC: 0.430\n"
     ]
    },
    {
     "name": "stderr",
     "output_type": "stream",
     "text": [
      "Train: 100%|██████████| 170/170 [02:15<00:00,  1.26it/s, accuracy=0.635, f1_score=0.762, loss=0.672, roc_auc=0.482]\n",
      "Valid: 100%|██████████| 43/43 [00:23<00:00,  1.87it/s, accuracy=0.646, f1_score=0.77, loss=0.668, roc_auc=0.437] \n"
     ]
    },
    {
     "name": "stdout",
     "output_type": "stream",
     "text": [
      "Epoch 3 done\n",
      "\n",
      "Train\n",
      "\tLoss: 0.672\n",
      "\tF1-score: 0.769\n",
      "\tAccuracy: 0.641\n",
      "\tROC AUC: 0.479\n",
      "Valid\n",
      "\tLoss: 0.668\n",
      "\tF1-score: 0.770\n",
      "\tAccuracy: 0.646\n",
      "\tROC AUC: 0.437\n"
     ]
    },
    {
     "name": "stderr",
     "output_type": "stream",
     "text": [
      "Train: 100%|██████████| 170/170 [02:14<00:00,  1.26it/s, accuracy=0.647, f1_score=0.771, loss=0.666, roc_auc=0.457]\n",
      "Valid: 100%|██████████| 43/43 [00:25<00:00,  1.70it/s, accuracy=0.646, f1_score=0.776, loss=0.665, roc_auc=0.461]\n"
     ]
    },
    {
     "name": "stdout",
     "output_type": "stream",
     "text": [
      "Epoch 4 done\n",
      "\n",
      "Train\n",
      "\tLoss: 0.667\n",
      "\tF1-score: 0.770\n",
      "\tAccuracy: 0.646\n",
      "\tROC AUC: 0.463\n",
      "Valid\n",
      "\tLoss: 0.665\n",
      "\tF1-score: 0.776\n",
      "\tAccuracy: 0.646\n",
      "\tROC AUC: 0.461\n"
     ]
    },
    {
     "name": "stderr",
     "output_type": "stream",
     "text": [
      "Train: 100%|██████████| 170/170 [02:16<00:00,  1.24it/s, accuracy=0.63, f1_score=0.754, loss=0.667, roc_auc=0.431] \n",
      "Valid: 100%|██████████| 43/43 [00:23<00:00,  1.86it/s, accuracy=0.641, f1_score=0.77, loss=0.663, roc_auc=0.458] \n"
     ]
    },
    {
     "name": "stdout",
     "output_type": "stream",
     "text": [
      "Epoch 5 done\n",
      "\n",
      "Train\n",
      "\tLoss: 0.663\n",
      "\tF1-score: 0.768\n",
      "\tAccuracy: 0.646\n",
      "\tROC AUC: 0.449\n",
      "Valid\n",
      "\tLoss: 0.663\n",
      "\tF1-score: 0.770\n",
      "\tAccuracy: 0.641\n",
      "\tROC AUC: 0.458\n"
     ]
    },
    {
     "name": "stderr",
     "output_type": "stream",
     "text": [
      "Train: 100%|██████████| 170/170 [02:07<00:00,  1.33it/s, accuracy=0.657, f1_score=0.779, loss=0.656, roc_auc=0.498]\n",
      "Valid: 100%|██████████| 43/43 [00:22<00:00,  1.88it/s, accuracy=0.646, f1_score=0.769, loss=0.659, roc_auc=0.441]\n"
     ]
    },
    {
     "name": "stdout",
     "output_type": "stream",
     "text": [
      "Epoch 6 done\n",
      "\n",
      "Train\n",
      "\tLoss: 0.660\n",
      "\tF1-score: 0.770\n",
      "\tAccuracy: 0.646\n",
      "\tROC AUC: 0.489\n",
      "Valid\n",
      "\tLoss: 0.659\n",
      "\tF1-score: 0.769\n",
      "\tAccuracy: 0.646\n",
      "\tROC AUC: 0.441\n"
     ]
    },
    {
     "name": "stderr",
     "output_type": "stream",
     "text": [
      "Train: 100%|██████████| 170/170 [02:09<00:00,  1.31it/s, accuracy=0.647, f1_score=0.773, loss=0.657, roc_auc=0.48] \n",
      "Valid: 100%|██████████| 43/43 [00:21<00:00,  2.01it/s, accuracy=0.641, f1_score=0.767, loss=0.659, roc_auc=0.458]\n"
     ]
    },
    {
     "name": "stdout",
     "output_type": "stream",
     "text": [
      "Epoch 7 done\n",
      "\n",
      "Train\n",
      "\tLoss: 0.658\n",
      "\tF1-score: 0.770\n",
      "\tAccuracy: 0.646\n",
      "\tROC AUC: 0.478\n",
      "Valid\n",
      "\tLoss: 0.659\n",
      "\tF1-score: 0.767\n",
      "\tAccuracy: 0.641\n",
      "\tROC AUC: 0.458\n"
     ]
    },
    {
     "name": "stderr",
     "output_type": "stream",
     "text": [
      "Train: 100%|██████████| 170/170 [02:06<00:00,  1.35it/s, accuracy=0.651, f1_score=0.776, loss=0.653, roc_auc=0.527]\n",
      "Valid: 100%|██████████| 43/43 [00:22<00:00,  1.88it/s, accuracy=0.641, f1_score=0.763, loss=0.657, roc_auc=0.455]\n"
     ]
    },
    {
     "name": "stdout",
     "output_type": "stream",
     "text": [
      "Epoch 8 done\n",
      "\n",
      "Train\n",
      "\tLoss: 0.656\n",
      "\tF1-score: 0.771\n",
      "\tAccuracy: 0.646\n",
      "\tROC AUC: 0.519\n",
      "Valid\n",
      "\tLoss: 0.657\n",
      "\tF1-score: 0.763\n",
      "\tAccuracy: 0.641\n",
      "\tROC AUC: 0.455\n"
     ]
    },
    {
     "name": "stderr",
     "output_type": "stream",
     "text": [
      "Train: 100%|██████████| 170/170 [02:04<00:00,  1.36it/s, accuracy=0.63, f1_score=0.757, loss=0.66, roc_auc=0.517]  \n",
      "Valid: 100%|██████████| 43/43 [00:25<00:00,  1.66it/s, accuracy=0.646, f1_score=0.773, loss=0.654, roc_auc=0.441]\n"
     ]
    },
    {
     "name": "stdout",
     "output_type": "stream",
     "text": [
      "Epoch 9 done\n",
      "\n",
      "Train\n",
      "\tLoss: 0.654\n",
      "\tF1-score: 0.771\n",
      "\tAccuracy: 0.646\n",
      "\tROC AUC: 0.509\n",
      "Valid\n",
      "\tLoss: 0.654\n",
      "\tF1-score: 0.773\n",
      "\tAccuracy: 0.646\n",
      "\tROC AUC: 0.441\n"
     ]
    },
    {
     "name": "stderr",
     "output_type": "stream",
     "text": [
      "Train: 100%|██████████| 170/170 [02:11<00:00,  1.29it/s, accuracy=0.631, f1_score=0.76, loss=0.659, roc_auc=0.545] \n",
      "Valid: 100%|██████████| 43/43 [00:21<00:00,  2.03it/s, accuracy=0.646, f1_score=0.771, loss=0.654, roc_auc=0.472]\n"
     ]
    },
    {
     "name": "stdout",
     "output_type": "stream",
     "text": [
      "Epoch 10 done\n",
      "\n",
      "Train\n",
      "\tLoss: 0.655\n",
      "\tF1-score: 0.769\n",
      "\tAccuracy: 0.641\n",
      "\tROC AUC: 0.526\n",
      "Valid\n",
      "\tLoss: 0.654\n",
      "\tF1-score: 0.771\n",
      "\tAccuracy: 0.646\n",
      "\tROC AUC: 0.472\n"
     ]
    },
    {
     "name": "stderr",
     "output_type": "stream",
     "text": [
      "Train: 100%|██████████| 170/170 [02:07<00:00,  1.33it/s, accuracy=0.627, f1_score=0.76, loss=0.66, roc_auc=0.529]  \n",
      "Valid: 100%|██████████| 43/43 [00:21<00:00,  1.98it/s, accuracy=0.646, f1_score=0.778, loss=0.653, roc_auc=0.49] \n"
     ]
    },
    {
     "name": "stdout",
     "output_type": "stream",
     "text": [
      "Epoch 11 done\n",
      "\n",
      "Train\n",
      "\tLoss: 0.654\n",
      "\tF1-score: 0.771\n",
      "\tAccuracy: 0.643\n",
      "\tROC AUC: 0.521\n",
      "Valid\n",
      "\tLoss: 0.653\n",
      "\tF1-score: 0.778\n",
      "\tAccuracy: 0.646\n",
      "\tROC AUC: 0.490\n"
     ]
    },
    {
     "name": "stderr",
     "output_type": "stream",
     "text": [
      "Train: 100%|██████████| 170/170 [02:08<00:00,  1.32it/s, accuracy=0.614, f1_score=0.742, loss=0.667, roc_auc=0.497]\n",
      "Valid: 100%|██████████| 43/43 [00:22<00:00,  1.87it/s, accuracy=0.646, f1_score=0.769, loss=0.652, roc_auc=0.445]\n"
     ]
    },
    {
     "name": "stdout",
     "output_type": "stream",
     "text": [
      "Epoch 12 done\n",
      "\n",
      "Train\n",
      "\tLoss: 0.654\n",
      "\tF1-score: 0.765\n",
      "\tAccuracy: 0.641\n",
      "\tROC AUC: 0.500\n",
      "Valid\n",
      "\tLoss: 0.652\n",
      "\tF1-score: 0.769\n",
      "\tAccuracy: 0.646\n",
      "\tROC AUC: 0.445\n"
     ]
    },
    {
     "name": "stderr",
     "output_type": "stream",
     "text": [
      "Train: 100%|██████████| 170/170 [02:02<00:00,  1.38it/s, accuracy=0.662, f1_score=0.786, loss=0.644, roc_auc=0.52] \n",
      "Valid: 100%|██████████| 43/43 [00:23<00:00,  1.83it/s, accuracy=0.651, f1_score=0.778, loss=0.649, roc_auc=0.466]\n"
     ]
    },
    {
     "name": "stdout",
     "output_type": "stream",
     "text": [
      "Epoch 13 done\n",
      "\n",
      "Train\n",
      "\tLoss: 0.652\n",
      "\tF1-score: 0.768\n",
      "\tAccuracy: 0.643\n",
      "\tROC AUC: 0.530\n",
      "Valid\n",
      "\tLoss: 0.649\n",
      "\tF1-score: 0.778\n",
      "\tAccuracy: 0.651\n",
      "\tROC AUC: 0.466\n"
     ]
    },
    {
     "name": "stderr",
     "output_type": "stream",
     "text": [
      "Train: 100%|██████████| 170/170 [02:05<00:00,  1.35it/s, accuracy=0.629, f1_score=0.759, loss=0.659, roc_auc=0.522]\n",
      "Valid: 100%|██████████| 43/43 [00:26<00:00,  1.64it/s, accuracy=0.646, f1_score=0.773, loss=0.651, roc_auc=0.469]\n"
     ]
    },
    {
     "name": "stdout",
     "output_type": "stream",
     "text": [
      "Epoch 14 done\n",
      "\n",
      "Train\n",
      "\tLoss: 0.652\n",
      "\tF1-score: 0.770\n",
      "\tAccuracy: 0.643\n",
      "\tROC AUC: 0.516\n",
      "Valid\n",
      "\tLoss: 0.651\n",
      "\tF1-score: 0.773\n",
      "\tAccuracy: 0.646\n",
      "\tROC AUC: 0.469\n"
     ]
    },
    {
     "name": "stderr",
     "output_type": "stream",
     "text": [
      "Train: 100%|██████████| 170/170 [02:07<00:00,  1.33it/s, accuracy=0.649, f1_score=0.773, loss=0.649, roc_auc=0.494]\n",
      "Valid: 100%|██████████| 43/43 [00:23<00:00,  1.84it/s, accuracy=0.646, f1_score=0.772, loss=0.651, roc_auc=0.47] \n"
     ]
    },
    {
     "name": "stdout",
     "output_type": "stream",
     "text": [
      "Epoch 15 done\n",
      "\n",
      "Train\n",
      "\tLoss: 0.650\n",
      "\tF1-score: 0.771\n",
      "\tAccuracy: 0.646\n",
      "\tROC AUC: 0.520\n",
      "Valid\n",
      "\tLoss: 0.651\n",
      "\tF1-score: 0.772\n",
      "\tAccuracy: 0.646\n",
      "\tROC AUC: 0.470\n"
     ]
    },
    {
     "name": "stderr",
     "output_type": "stream",
     "text": [
      "Train: 100%|██████████| 170/170 [02:11<00:00,  1.29it/s, accuracy=0.634, f1_score=0.762, loss=0.656, roc_auc=0.538]\n",
      "Valid: 100%|██████████| 43/43 [00:21<00:00,  2.04it/s, accuracy=0.646, f1_score=0.776, loss=0.651, roc_auc=0.519]\n"
     ]
    },
    {
     "name": "stdout",
     "output_type": "stream",
     "text": [
      "Epoch 16 done\n",
      "\n",
      "Train\n",
      "\tLoss: 0.650\n",
      "\tF1-score: 0.771\n",
      "\tAccuracy: 0.646\n",
      "\tROC AUC: 0.529\n",
      "Valid\n",
      "\tLoss: 0.651\n",
      "\tF1-score: 0.776\n",
      "\tAccuracy: 0.646\n",
      "\tROC AUC: 0.519\n"
     ]
    },
    {
     "name": "stderr",
     "output_type": "stream",
     "text": [
      "Train: 100%|██████████| 170/170 [02:11<00:00,  1.29it/s, accuracy=0.64, f1_score=0.768, loss=0.652, roc_auc=0.564] \n",
      "Valid: 100%|██████████| 43/43 [00:23<00:00,  1.85it/s, accuracy=0.641, f1_score=0.764, loss=0.653, roc_auc=0.479]\n"
     ]
    },
    {
     "name": "stdout",
     "output_type": "stream",
     "text": [
      "Epoch 17 done\n",
      "\n",
      "Train\n",
      "\tLoss: 0.650\n",
      "\tF1-score: 0.772\n",
      "\tAccuracy: 0.646\n",
      "\tROC AUC: 0.541\n",
      "Valid\n",
      "\tLoss: 0.653\n",
      "\tF1-score: 0.764\n",
      "\tAccuracy: 0.641\n",
      "\tROC AUC: 0.479\n"
     ]
    },
    {
     "name": "stderr",
     "output_type": "stream",
     "text": [
      "Train: 100%|██████████| 170/170 [02:06<00:00,  1.34it/s, accuracy=0.641, f1_score=0.768, loss=0.653, roc_auc=0.518]\n",
      "Valid: 100%|██████████| 43/43 [00:24<00:00,  1.74it/s, accuracy=0.641, f1_score=0.767, loss=0.653, roc_auc=0.45] \n"
     ]
    },
    {
     "name": "stdout",
     "output_type": "stream",
     "text": [
      "Epoch 18 done\n",
      "\n",
      "Train\n",
      "\tLoss: 0.650\n",
      "\tF1-score: 0.773\n",
      "\tAccuracy: 0.646\n",
      "\tROC AUC: 0.524\n",
      "Valid\n",
      "\tLoss: 0.653\n",
      "\tF1-score: 0.767\n",
      "\tAccuracy: 0.641\n",
      "\tROC AUC: 0.450\n"
     ]
    },
    {
     "name": "stderr",
     "output_type": "stream",
     "text": [
      "Train: 100%|██████████| 170/170 [02:08<00:00,  1.32it/s, accuracy=0.664, f1_score=0.787, loss=0.639, roc_auc=0.556]\n",
      "Valid: 100%|██████████| 43/43 [00:23<00:00,  1.86it/s, accuracy=0.646, f1_score=0.77, loss=0.65, roc_auc=0.473]  \n"
     ]
    },
    {
     "name": "stdout",
     "output_type": "stream",
     "text": [
      "Epoch 19 done\n",
      "\n",
      "Train\n",
      "\tLoss: 0.649\n",
      "\tF1-score: 0.772\n",
      "\tAccuracy: 0.646\n",
      "\tROC AUC: 0.537\n",
      "Valid\n",
      "\tLoss: 0.650\n",
      "\tF1-score: 0.770\n",
      "\tAccuracy: 0.646\n",
      "\tROC AUC: 0.473\n"
     ]
    },
    {
     "name": "stderr",
     "output_type": "stream",
     "text": [
      "Train: 100%|██████████| 170/170 [02:13<00:00,  1.28it/s, accuracy=0.629, f1_score=0.758, loss=0.659, roc_auc=0.519]\n",
      "Valid: 100%|██████████| 43/43 [00:22<00:00,  1.88it/s, accuracy=0.651, f1_score=0.768, loss=0.647, roc_auc=0.434]\n"
     ]
    },
    {
     "name": "stdout",
     "output_type": "stream",
     "text": [
      "Epoch 20 done\n",
      "\n",
      "Train\n",
      "\tLoss: 0.651\n",
      "\tF1-score: 0.770\n",
      "\tAccuracy: 0.643\n",
      "\tROC AUC: 0.528\n",
      "Valid\n",
      "\tLoss: 0.647\n",
      "\tF1-score: 0.768\n",
      "\tAccuracy: 0.651\n",
      "\tROC AUC: 0.434\n"
     ]
    },
    {
     "name": "stderr",
     "output_type": "stream",
     "text": [
      "Train: 100%|██████████| 170/170 [02:08<00:00,  1.33it/s, accuracy=0.631, f1_score=0.756, loss=0.657, roc_auc=0.528]\n",
      "Valid: 100%|██████████| 43/43 [00:23<00:00,  1.85it/s, accuracy=0.641, f1_score=0.769, loss=0.653, roc_auc=0.514]\n"
     ]
    },
    {
     "name": "stdout",
     "output_type": "stream",
     "text": [
      "Epoch 21 done\n",
      "\n",
      "Train\n",
      "\tLoss: 0.652\n",
      "\tF1-score: 0.765\n",
      "\tAccuracy: 0.641\n",
      "\tROC AUC: 0.526\n",
      "Valid\n",
      "\tLoss: 0.653\n",
      "\tF1-score: 0.769\n",
      "\tAccuracy: 0.641\n",
      "\tROC AUC: 0.514\n"
     ]
    },
    {
     "name": "stderr",
     "output_type": "stream",
     "text": [
      "Train: 100%|██████████| 170/170 [02:10<00:00,  1.31it/s, accuracy=0.641, f1_score=0.766, loss=0.651, roc_auc=0.563]\n",
      "Valid: 100%|██████████| 43/43 [00:22<00:00,  1.93it/s, accuracy=0.646, f1_score=0.777, loss=0.65, roc_auc=0.475] \n"
     ]
    },
    {
     "name": "stdout",
     "output_type": "stream",
     "text": [
      "Epoch 22 done\n",
      "\n",
      "Train\n",
      "\tLoss: 0.650\n",
      "\tF1-score: 0.769\n",
      "\tAccuracy: 0.643\n",
      "\tROC AUC: 0.538\n",
      "Valid\n",
      "\tLoss: 0.650\n",
      "\tF1-score: 0.777\n",
      "\tAccuracy: 0.646\n",
      "\tROC AUC: 0.475\n"
     ]
    },
    {
     "name": "stderr",
     "output_type": "stream",
     "text": [
      "Train: 100%|██████████| 170/170 [02:06<00:00,  1.34it/s, accuracy=0.645, f1_score=0.771, loss=0.649, roc_auc=0.58] \n",
      "Valid: 100%|██████████| 43/43 [00:22<00:00,  1.95it/s, accuracy=0.646, f1_score=0.774, loss=0.65, roc_auc=0.521] \n"
     ]
    },
    {
     "name": "stdout",
     "output_type": "stream",
     "text": [
      "Epoch 23 done\n",
      "\n",
      "Train\n",
      "\tLoss: 0.648\n",
      "\tF1-score: 0.771\n",
      "\tAccuracy: 0.646\n",
      "\tROC AUC: 0.577\n",
      "Valid\n",
      "\tLoss: 0.650\n",
      "\tF1-score: 0.774\n",
      "\tAccuracy: 0.646\n",
      "\tROC AUC: 0.521\n"
     ]
    },
    {
     "name": "stderr",
     "output_type": "stream",
     "text": [
      "Train: 100%|██████████| 170/170 [02:07<00:00,  1.34it/s, accuracy=0.652, f1_score=0.775, loss=0.645, roc_auc=0.537]\n",
      "Valid: 100%|██████████| 43/43 [00:22<00:00,  1.95it/s, accuracy=0.641, f1_score=0.769, loss=0.653, roc_auc=0.49] \n"
     ]
    },
    {
     "name": "stdout",
     "output_type": "stream",
     "text": [
      "Epoch 24 done\n",
      "\n",
      "Train\n",
      "\tLoss: 0.649\n",
      "\tF1-score: 0.770\n",
      "\tAccuracy: 0.646\n",
      "\tROC AUC: 0.530\n",
      "Valid\n",
      "\tLoss: 0.653\n",
      "\tF1-score: 0.769\n",
      "\tAccuracy: 0.641\n",
      "\tROC AUC: 0.490\n"
     ]
    },
    {
     "name": "stderr",
     "output_type": "stream",
     "text": [
      "Train: 100%|██████████| 170/170 [02:07<00:00,  1.33it/s, accuracy=0.631, f1_score=0.76, loss=0.657, roc_auc=0.511] \n",
      "Valid: 100%|██████████| 43/43 [00:27<00:00,  1.55it/s, accuracy=0.637, f1_score=0.755, loss=0.656, roc_auc=0.451]\n"
     ]
    },
    {
     "name": "stdout",
     "output_type": "stream",
     "text": [
      "Epoch 25 done\n",
      "\n",
      "Train\n",
      "\tLoss: 0.649\n",
      "\tF1-score: 0.772\n",
      "\tAccuracy: 0.646\n",
      "\tROC AUC: 0.508\n",
      "Valid\n",
      "\tLoss: 0.656\n",
      "\tF1-score: 0.755\n",
      "\tAccuracy: 0.637\n",
      "\tROC AUC: 0.451\n"
     ]
    },
    {
     "name": "stderr",
     "output_type": "stream",
     "text": [
      "Train: 100%|██████████| 170/170 [02:12<00:00,  1.28it/s, accuracy=0.639, f1_score=0.763, loss=0.653, roc_auc=0.518]\n",
      "Valid: 100%|██████████| 43/43 [00:21<00:00,  1.96it/s, accuracy=0.646, f1_score=0.773, loss=0.65, roc_auc=0.495] \n"
     ]
    },
    {
     "name": "stdout",
     "output_type": "stream",
     "text": [
      "Epoch 26 done\n",
      "\n",
      "Train\n",
      "\tLoss: 0.649\n",
      "\tF1-score: 0.771\n",
      "\tAccuracy: 0.646\n",
      "\tROC AUC: 0.539\n",
      "Valid\n",
      "\tLoss: 0.650\n",
      "\tF1-score: 0.773\n",
      "\tAccuracy: 0.646\n",
      "\tROC AUC: 0.495\n"
     ]
    },
    {
     "name": "stderr",
     "output_type": "stream",
     "text": [
      "Train: 100%|██████████| 170/170 [02:05<00:00,  1.35it/s, accuracy=0.654, f1_score=0.777, loss=0.644, roc_auc=0.523]\n",
      "Valid: 100%|██████████| 43/43 [00:23<00:00,  1.84it/s, accuracy=0.646, f1_score=0.769, loss=0.65, roc_auc=0.494] \n"
     ]
    },
    {
     "name": "stdout",
     "output_type": "stream",
     "text": [
      "Epoch 27 done\n",
      "\n",
      "Train\n",
      "\tLoss: 0.649\n",
      "\tF1-score: 0.772\n",
      "\tAccuracy: 0.646\n",
      "\tROC AUC: 0.507\n",
      "Valid\n",
      "\tLoss: 0.650\n",
      "\tF1-score: 0.769\n",
      "\tAccuracy: 0.646\n",
      "\tROC AUC: 0.494\n"
     ]
    },
    {
     "name": "stderr",
     "output_type": "stream",
     "text": [
      "Train: 100%|██████████| 170/170 [02:07<00:00,  1.34it/s, accuracy=0.63, f1_score=0.76, loss=0.659, roc_auc=0.529]  \n",
      "Valid: 100%|██████████| 43/43 [00:23<00:00,  1.83it/s, accuracy=0.641, f1_score=0.765, loss=0.652, roc_auc=0.516]\n"
     ]
    },
    {
     "name": "stdout",
     "output_type": "stream",
     "text": [
      "Epoch 28 done\n",
      "\n",
      "Train\n",
      "\tLoss: 0.650\n",
      "\tF1-score: 0.769\n",
      "\tAccuracy: 0.643\n",
      "\tROC AUC: 0.563\n",
      "Valid\n",
      "\tLoss: 0.652\n",
      "\tF1-score: 0.765\n",
      "\tAccuracy: 0.641\n",
      "\tROC AUC: 0.516\n"
     ]
    },
    {
     "name": "stderr",
     "output_type": "stream",
     "text": [
      "Train: 100%|██████████| 170/170 [02:08<00:00,  1.32it/s, accuracy=0.651, f1_score=0.776, loss=0.646, roc_auc=0.529]\n",
      "Valid: 100%|██████████| 43/43 [00:21<00:00,  2.03it/s, accuracy=0.641, f1_score=0.765, loss=0.653, roc_auc=0.455]\n"
     ]
    },
    {
     "name": "stdout",
     "output_type": "stream",
     "text": [
      "Epoch 29 done\n",
      "\n",
      "Train\n",
      "\tLoss: 0.650\n",
      "\tF1-score: 0.770\n",
      "\tAccuracy: 0.643\n",
      "\tROC AUC: 0.552\n",
      "Valid\n",
      "\tLoss: 0.653\n",
      "\tF1-score: 0.765\n",
      "\tAccuracy: 0.641\n",
      "\tROC AUC: 0.455\n"
     ]
    },
    {
     "name": "stderr",
     "output_type": "stream",
     "text": [
      "Train: 100%|██████████| 170/170 [02:08<00:00,  1.32it/s, accuracy=0.646, f1_score=0.775, loss=0.649, roc_auc=0.503]\n",
      "Valid: 100%|██████████| 43/43 [00:24<00:00,  1.73it/s, accuracy=0.646, f1_score=0.774, loss=0.65, roc_auc=0.502] \n"
     ]
    },
    {
     "name": "stdout",
     "output_type": "stream",
     "text": [
      "Epoch 30 done\n",
      "\n",
      "Train\n",
      "\tLoss: 0.649\n",
      "\tF1-score: 0.773\n",
      "\tAccuracy: 0.646\n",
      "\tROC AUC: 0.525\n",
      "Valid\n",
      "\tLoss: 0.650\n",
      "\tF1-score: 0.774\n",
      "\tAccuracy: 0.646\n",
      "\tROC AUC: 0.502\n"
     ]
    },
    {
     "name": "stderr",
     "output_type": "stream",
     "text": [
      "Train: 100%|██████████| 170/170 [02:06<00:00,  1.35it/s, accuracy=0.644, f1_score=0.769, loss=0.65, roc_auc=0.582] \n",
      "Valid: 100%|██████████| 43/43 [00:22<00:00,  1.91it/s, accuracy=0.651, f1_score=0.774, loss=0.647, roc_auc=0.482]\n"
     ]
    },
    {
     "name": "stdout",
     "output_type": "stream",
     "text": [
      "Epoch 31 done\n",
      "\n",
      "Train\n",
      "\tLoss: 0.650\n",
      "\tF1-score: 0.770\n",
      "\tAccuracy: 0.643\n",
      "\tROC AUC: 0.552\n",
      "Valid\n",
      "\tLoss: 0.647\n",
      "\tF1-score: 0.774\n",
      "\tAccuracy: 0.651\n",
      "\tROC AUC: 0.482\n"
     ]
    },
    {
     "name": "stderr",
     "output_type": "stream",
     "text": [
      "Train: 100%|██████████| 170/170 [02:10<00:00,  1.30it/s, accuracy=0.64, f1_score=0.77, loss=0.652, roc_auc=0.537]  \n",
      "Valid: 100%|██████████| 43/43 [00:26<00:00,  1.65it/s, accuracy=0.651, f1_score=0.773, loss=0.647, roc_auc=0.515]\n"
     ]
    },
    {
     "name": "stdout",
     "output_type": "stream",
     "text": [
      "Epoch 32 done\n",
      "\n",
      "Train\n",
      "\tLoss: 0.649\n",
      "\tF1-score: 0.774\n",
      "\tAccuracy: 0.646\n",
      "\tROC AUC: 0.531\n",
      "Valid\n",
      "\tLoss: 0.647\n",
      "\tF1-score: 0.773\n",
      "\tAccuracy: 0.651\n",
      "\tROC AUC: 0.515\n"
     ]
    },
    {
     "name": "stderr",
     "output_type": "stream",
     "text": [
      "Train: 100%|██████████| 170/170 [02:04<00:00,  1.36it/s, accuracy=0.649, f1_score=0.774, loss=0.646, roc_auc=0.53] \n",
      "Valid: 100%|██████████| 43/43 [00:23<00:00,  1.82it/s, accuracy=0.651, f1_score=0.779, loss=0.647, roc_auc=0.534]\n"
     ]
    },
    {
     "name": "stdout",
     "output_type": "stream",
     "text": [
      "Epoch 33 done\n",
      "\n",
      "Train\n",
      "\tLoss: 0.648\n",
      "\tF1-score: 0.772\n",
      "\tAccuracy: 0.646\n",
      "\tROC AUC: 0.537\n",
      "Valid\n",
      "\tLoss: 0.647\n",
      "\tF1-score: 0.779\n",
      "\tAccuracy: 0.651\n",
      "\tROC AUC: 0.534\n"
     ]
    },
    {
     "name": "stderr",
     "output_type": "stream",
     "text": [
      "Train: 100%|██████████| 170/170 [02:07<00:00,  1.33it/s, accuracy=0.661, f1_score=0.78, loss=0.639, roc_auc=0.521] \n",
      "Valid: 100%|██████████| 43/43 [00:21<00:00,  2.02it/s, accuracy=0.646, f1_score=0.773, loss=0.649, roc_auc=0.55] \n"
     ]
    },
    {
     "name": "stdout",
     "output_type": "stream",
     "text": [
      "Epoch 34 done\n",
      "\n",
      "Train\n",
      "\tLoss: 0.651\n",
      "\tF1-score: 0.766\n",
      "\tAccuracy: 0.641\n",
      "\tROC AUC: 0.523\n",
      "Valid\n",
      "\tLoss: 0.649\n",
      "\tF1-score: 0.773\n",
      "\tAccuracy: 0.646\n",
      "\tROC AUC: 0.550\n"
     ]
    },
    {
     "name": "stderr",
     "output_type": "stream",
     "text": [
      "Train: 100%|██████████| 170/170 [02:07<00:00,  1.34it/s, accuracy=0.619, f1_score=0.747, loss=0.665, roc_auc=0.526]\n",
      "Valid: 100%|██████████| 43/43 [00:21<00:00,  2.02it/s, accuracy=0.646, f1_score=0.776, loss=0.65, roc_auc=0.503] \n"
     ]
    },
    {
     "name": "stdout",
     "output_type": "stream",
     "text": [
      "Epoch 35 done\n",
      "\n",
      "Train\n",
      "\tLoss: 0.650\n",
      "\tF1-score: 0.766\n",
      "\tAccuracy: 0.643\n",
      "\tROC AUC: 0.521\n",
      "Valid\n",
      "\tLoss: 0.650\n",
      "\tF1-score: 0.776\n",
      "\tAccuracy: 0.646\n",
      "\tROC AUC: 0.503\n"
     ]
    },
    {
     "name": "stderr",
     "output_type": "stream",
     "text": [
      "Train: 100%|██████████| 170/170 [02:10<00:00,  1.30it/s, accuracy=0.646, f1_score=0.772, loss=0.648, roc_auc=0.559]\n",
      "Valid: 100%|██████████| 43/43 [00:21<00:00,  1.98it/s, accuracy=0.646, f1_score=0.77, loss=0.65, roc_auc=0.504]  \n"
     ]
    },
    {
     "name": "stdout",
     "output_type": "stream",
     "text": [
      "Epoch 36 done\n",
      "\n",
      "Train\n",
      "\tLoss: 0.649\n",
      "\tF1-score: 0.770\n",
      "\tAccuracy: 0.643\n",
      "\tROC AUC: 0.566\n",
      "Valid\n",
      "\tLoss: 0.650\n",
      "\tF1-score: 0.770\n",
      "\tAccuracy: 0.646\n",
      "\tROC AUC: 0.504\n"
     ]
    },
    {
     "name": "stderr",
     "output_type": "stream",
     "text": [
      "Train: 100%|██████████| 170/170 [02:06<00:00,  1.34it/s, accuracy=0.656, f1_score=0.779, loss=0.642, roc_auc=0.533]\n",
      "Valid: 100%|██████████| 43/43 [00:24<00:00,  1.75it/s, accuracy=0.646, f1_score=0.77, loss=0.649, roc_auc=0.515] \n"
     ]
    },
    {
     "name": "stdout",
     "output_type": "stream",
     "text": [
      "Epoch 37 done\n",
      "\n",
      "Train\n",
      "\tLoss: 0.648\n",
      "\tF1-score: 0.771\n",
      "\tAccuracy: 0.646\n",
      "\tROC AUC: 0.550\n",
      "Valid\n",
      "\tLoss: 0.649\n",
      "\tF1-score: 0.770\n",
      "\tAccuracy: 0.646\n",
      "\tROC AUC: 0.515\n"
     ]
    },
    {
     "name": "stderr",
     "output_type": "stream",
     "text": [
      "Train: 100%|██████████| 170/170 [02:02<00:00,  1.39it/s, accuracy=0.636, f1_score=0.767, loss=0.653, roc_auc=0.547]\n",
      "Valid: 100%|██████████| 43/43 [00:26<00:00,  1.60it/s, accuracy=0.646, f1_score=0.773, loss=0.649, roc_auc=0.502]\n"
     ]
    },
    {
     "name": "stdout",
     "output_type": "stream",
     "text": [
      "Epoch 38 done\n",
      "\n",
      "Train\n",
      "\tLoss: 0.649\n",
      "\tF1-score: 0.771\n",
      "\tAccuracy: 0.643\n",
      "\tROC AUC: 0.555\n",
      "Valid\n",
      "\tLoss: 0.649\n",
      "\tF1-score: 0.773\n",
      "\tAccuracy: 0.646\n",
      "\tROC AUC: 0.502\n"
     ]
    },
    {
     "name": "stderr",
     "output_type": "stream",
     "text": [
      "Train: 100%|██████████| 170/170 [02:08<00:00,  1.32it/s, accuracy=0.669, f1_score=0.79, loss=0.634, roc_auc=0.557] \n",
      "Valid: 100%|██████████| 43/43 [00:23<00:00,  1.82it/s, accuracy=0.651, f1_score=0.778, loss=0.646, roc_auc=0.473]\n"
     ]
    },
    {
     "name": "stdout",
     "output_type": "stream",
     "text": [
      "Epoch 39 done\n",
      "\n",
      "Train\n",
      "\tLoss: 0.647\n",
      "\tF1-score: 0.772\n",
      "\tAccuracy: 0.646\n",
      "\tROC AUC: 0.557\n",
      "Valid\n",
      "\tLoss: 0.646\n",
      "\tF1-score: 0.778\n",
      "\tAccuracy: 0.651\n",
      "\tROC AUC: 0.473\n"
     ]
    },
    {
     "name": "stderr",
     "output_type": "stream",
     "text": [
      "Train: 100%|██████████| 170/170 [02:07<00:00,  1.33it/s, accuracy=0.644, f1_score=0.769, loss=0.65, roc_auc=0.535] \n",
      "Valid: 100%|██████████| 43/43 [00:21<00:00,  2.03it/s, accuracy=0.646, f1_score=0.77, loss=0.65, roc_auc=0.477]  \n"
     ]
    },
    {
     "name": "stdout",
     "output_type": "stream",
     "text": [
      "Epoch 40 done\n",
      "\n",
      "Train\n",
      "\tLoss: 0.648\n",
      "\tF1-score: 0.771\n",
      "\tAccuracy: 0.646\n",
      "\tROC AUC: 0.526\n",
      "Valid\n",
      "\tLoss: 0.650\n",
      "\tF1-score: 0.770\n",
      "\tAccuracy: 0.646\n",
      "\tROC AUC: 0.477\n"
     ]
    },
    {
     "name": "stderr",
     "output_type": "stream",
     "text": [
      "Train: 100%|██████████| 170/170 [02:05<00:00,  1.36it/s, accuracy=0.636, f1_score=0.764, loss=0.654, roc_auc=0.555]\n",
      "Valid: 100%|██████████| 43/43 [00:23<00:00,  1.84it/s, accuracy=0.641, f1_score=0.772, loss=0.653, roc_auc=0.463]\n"
     ]
    },
    {
     "name": "stdout",
     "output_type": "stream",
     "text": [
      "Epoch 41 done\n",
      "\n",
      "Train\n",
      "\tLoss: 0.650\n",
      "\tF1-score: 0.770\n",
      "\tAccuracy: 0.643\n",
      "\tROC AUC: 0.564\n",
      "Valid\n",
      "\tLoss: 0.653\n",
      "\tF1-score: 0.772\n",
      "\tAccuracy: 0.641\n",
      "\tROC AUC: 0.463\n"
     ]
    },
    {
     "name": "stderr",
     "output_type": "stream",
     "text": [
      "Train: 100%|██████████| 170/170 [02:06<00:00,  1.34it/s, accuracy=0.626, f1_score=0.759, loss=0.659, roc_auc=0.529]\n",
      "Valid: 100%|██████████| 43/43 [00:22<00:00,  1.92it/s, accuracy=0.651, f1_score=0.776, loss=0.646, roc_auc=0.505]\n"
     ]
    },
    {
     "name": "stdout",
     "output_type": "stream",
     "text": [
      "Epoch 42 done\n",
      "\n",
      "Train\n",
      "\tLoss: 0.648\n",
      "\tF1-score: 0.772\n",
      "\tAccuracy: 0.646\n",
      "\tROC AUC: 0.545\n",
      "Valid\n",
      "\tLoss: 0.646\n",
      "\tF1-score: 0.776\n",
      "\tAccuracy: 0.651\n",
      "\tROC AUC: 0.505\n"
     ]
    },
    {
     "name": "stderr",
     "output_type": "stream",
     "text": [
      "Train: 100%|██████████| 170/170 [02:06<00:00,  1.34it/s, accuracy=0.627, f1_score=0.756, loss=0.658, roc_auc=0.53] \n",
      "Valid: 100%|██████████| 43/43 [00:21<00:00,  1.99it/s, accuracy=0.646, f1_score=0.775, loss=0.649, roc_auc=0.505]\n"
     ]
    },
    {
     "name": "stdout",
     "output_type": "stream",
     "text": [
      "Epoch 43 done\n",
      "\n",
      "Train\n",
      "\tLoss: 0.650\n",
      "\tF1-score: 0.768\n",
      "\tAccuracy: 0.641\n",
      "\tROC AUC: 0.536\n",
      "Valid\n",
      "\tLoss: 0.649\n",
      "\tF1-score: 0.775\n",
      "\tAccuracy: 0.646\n",
      "\tROC AUC: 0.505\n"
     ]
    },
    {
     "name": "stderr",
     "output_type": "stream",
     "text": [
      "Train: 100%|██████████| 170/170 [02:03<00:00,  1.37it/s, accuracy=0.659, f1_score=0.78, loss=0.64, roc_auc=0.543]  \n",
      "Valid: 100%|██████████| 43/43 [00:21<00:00,  2.02it/s, accuracy=0.641, f1_score=0.769, loss=0.652, roc_auc=0.538]\n"
     ]
    },
    {
     "name": "stdout",
     "output_type": "stream",
     "text": [
      "Epoch 44 done\n",
      "\n",
      "Train\n",
      "\tLoss: 0.649\n",
      "\tF1-score: 0.770\n",
      "\tAccuracy: 0.643\n",
      "\tROC AUC: 0.565\n",
      "Valid\n",
      "\tLoss: 0.652\n",
      "\tF1-score: 0.769\n",
      "\tAccuracy: 0.641\n",
      "\tROC AUC: 0.538\n"
     ]
    },
    {
     "name": "stderr",
     "output_type": "stream",
     "text": [
      "Train: 100%|██████████| 170/170 [02:07<00:00,  1.34it/s, accuracy=0.656, f1_score=0.779, loss=0.641, roc_auc=0.529]\n",
      "Valid: 100%|██████████| 43/43 [00:20<00:00,  2.08it/s, accuracy=0.646, f1_score=0.773, loss=0.649, roc_auc=0.548]\n"
     ]
    },
    {
     "name": "stdout",
     "output_type": "stream",
     "text": [
      "Epoch 45 done\n",
      "\n",
      "Train\n",
      "\tLoss: 0.647\n",
      "\tF1-score: 0.770\n",
      "\tAccuracy: 0.646\n",
      "\tROC AUC: 0.550\n",
      "Valid\n",
      "\tLoss: 0.649\n",
      "\tF1-score: 0.773\n",
      "\tAccuracy: 0.646\n",
      "\tROC AUC: 0.548\n"
     ]
    },
    {
     "name": "stderr",
     "output_type": "stream",
     "text": [
      "Train: 100%|██████████| 170/170 [02:05<00:00,  1.36it/s, accuracy=0.631, f1_score=0.755, loss=0.657, roc_auc=0.53] \n",
      "Valid: 100%|██████████| 43/43 [00:24<00:00,  1.75it/s, accuracy=0.646, f1_score=0.777, loss=0.649, roc_auc=0.547]\n"
     ]
    },
    {
     "name": "stdout",
     "output_type": "stream",
     "text": [
      "Epoch 46 done\n",
      "\n",
      "Train\n",
      "\tLoss: 0.650\n",
      "\tF1-score: 0.766\n",
      "\tAccuracy: 0.641\n",
      "\tROC AUC: 0.566\n",
      "Valid\n",
      "\tLoss: 0.649\n",
      "\tF1-score: 0.777\n",
      "\tAccuracy: 0.646\n",
      "\tROC AUC: 0.547\n"
     ]
    },
    {
     "name": "stderr",
     "output_type": "stream",
     "text": [
      "Train: 100%|██████████| 170/170 [02:04<00:00,  1.36it/s, accuracy=0.649, f1_score=0.778, loss=0.644, roc_auc=0.601]\n",
      "Valid: 100%|██████████| 43/43 [00:21<00:00,  2.00it/s, accuracy=0.646, f1_score=0.772, loss=0.649, roc_auc=0.508]\n"
     ]
    },
    {
     "name": "stdout",
     "output_type": "stream",
     "text": [
      "Epoch 47 done\n",
      "\n",
      "Train\n",
      "\tLoss: 0.648\n",
      "\tF1-score: 0.773\n",
      "\tAccuracy: 0.643\n",
      "\tROC AUC: 0.585\n",
      "Valid\n",
      "\tLoss: 0.649\n",
      "\tF1-score: 0.772\n",
      "\tAccuracy: 0.646\n",
      "\tROC AUC: 0.508\n"
     ]
    },
    {
     "name": "stderr",
     "output_type": "stream",
     "text": [
      "Train: 100%|██████████| 170/170 [02:03<00:00,  1.37it/s, accuracy=0.645, f1_score=0.768, loss=0.647, roc_auc=0.572]\n",
      "Valid: 100%|██████████| 43/43 [00:24<00:00,  1.75it/s, accuracy=0.641, f1_score=0.771, loss=0.652, roc_auc=0.498]\n"
     ]
    },
    {
     "name": "stdout",
     "output_type": "stream",
     "text": [
      "Epoch 48 done\n",
      "\n",
      "Train\n",
      "\tLoss: 0.648\n",
      "\tF1-score: 0.769\n",
      "\tAccuracy: 0.646\n",
      "\tROC AUC: 0.555\n",
      "Valid\n",
      "\tLoss: 0.652\n",
      "\tF1-score: 0.771\n",
      "\tAccuracy: 0.641\n",
      "\tROC AUC: 0.498\n"
     ]
    },
    {
     "name": "stderr",
     "output_type": "stream",
     "text": [
      "Train: 100%|██████████| 170/170 [02:03<00:00,  1.38it/s, accuracy=0.645, f1_score=0.773, loss=0.647, roc_auc=0.572]\n",
      "Valid: 100%|██████████| 43/43 [00:23<00:00,  1.83it/s, accuracy=0.641, f1_score=0.77, loss=0.652, roc_auc=0.505] \n"
     ]
    },
    {
     "name": "stdout",
     "output_type": "stream",
     "text": [
      "Epoch 49 done\n",
      "\n",
      "Train\n",
      "\tLoss: 0.648\n",
      "\tF1-score: 0.771\n",
      "\tAccuracy: 0.643\n",
      "\tROC AUC: 0.584\n",
      "Valid\n",
      "\tLoss: 0.652\n",
      "\tF1-score: 0.770\n",
      "\tAccuracy: 0.641\n",
      "\tROC AUC: 0.505\n"
     ]
    },
    {
     "name": "stderr",
     "output_type": "stream",
     "text": [
      "Train: 100%|██████████| 170/170 [02:08<00:00,  1.32it/s, accuracy=0.641, f1_score=0.766, loss=0.649, roc_auc=0.574]\n",
      "Valid: 100%|██████████| 43/43 [00:23<00:00,  1.80it/s, accuracy=0.637, f1_score=0.762, loss=0.655, roc_auc=0.534]\n"
     ]
    },
    {
     "name": "stdout",
     "output_type": "stream",
     "text": [
      "Epoch 50 done\n",
      "\n",
      "Train\n",
      "\tLoss: 0.650\n",
      "\tF1-score: 0.766\n",
      "\tAccuracy: 0.641\n",
      "\tROC AUC: 0.544\n",
      "Valid\n",
      "\tLoss: 0.655\n",
      "\tF1-score: 0.762\n",
      "\tAccuracy: 0.637\n",
      "\tROC AUC: 0.534\n",
      "early stop\n"
     ]
    }
   ],
   "source": [
    "from tqdm import tqdm\n",
    "\n",
    "best_valid_loss = np.inf\n",
    "losses = []\n",
    "f1_scores = []\n",
    "accuracies = []\n",
    "rocs = []\n",
    "\n",
    "for n_epoch in range(100):\n",
    "\n",
    "    train_losses, train_f1_scores, train_accuracies, train_roc_auc = loop(n_epoch, True, \n",
    "                                                                          criterion,\n",
    "                                                                          optimizer, classifier, \n",
    "                                                                          loader=train_loader)\n",
    "    valid_losses, valid_f1_scores, valid_accuracies, valid_roc_auc = loop(n_epoch, False,\n",
    "                                                                          criterion,\n",
    "                                                                          optimizer, classifier,\n",
    "                                                                          loader=valid_loader)\n",
    "\n",
    "    train_mean_loss = np.mean(train_losses)\n",
    "    valid_mean_loss = np.mean(valid_losses)\n",
    "\n",
    "    train_mean_f1_scores = np.mean(train_f1_scores)\n",
    "    valid_mean_f1_scores = np.mean(valid_f1_scores)\n",
    "\n",
    "    train_mean_accuracies = np.mean(train_accuracies)\n",
    "    valid_mean_accuracies = np.mean(valid_accuracies)\n",
    "    \n",
    "    train_mean_roc_auc = np.mean(train_roc_auc)\n",
    "    valid_mean_roc_auc = np.mean(valid_roc_auc)\n",
    "    \n",
    "    losses.append(valid_mean_loss)\n",
    "    f1_scores.append(valid_mean_f1_scores)\n",
    "    accuracies.append(valid_mean_accuracies)\n",
    "    rocs.append(valid_mean_roc_auc)\n",
    "\n",
    "    epoch_message = [\n",
    "        f\"Epoch {n_epoch} done\",\n",
    "        \"\",\n",
    "        \"Train\",\n",
    "        f\"\\tLoss: {train_mean_loss:.3f}\",\n",
    "        f\"\\tF1-score: {train_mean_f1_scores:.3f}\",\n",
    "        f\"\\tAccuracy: {train_mean_accuracies:.3f}\",\n",
    "        f\"\\tROC AUC: {train_mean_roc_auc:.3f}\",\n",
    "        \"Valid\",\n",
    "        f\"\\tLoss: {valid_mean_loss:.3f}\",\n",
    "        f\"\\tF1-score: {valid_mean_f1_scores:.3f}\",\n",
    "        f\"\\tAccuracy: {valid_mean_accuracies:.3f}\",\n",
    "        f\"\\tROC AUC: {valid_mean_roc_auc:.3f}\",\n",
    "    ]\n",
    "\n",
    "    print(\"\\n\".join(epoch_message))\n",
    "    \n",
    "    if valid_mean_loss > np.mean(losses) or np.isnan(np.mean(losses)):\n",
    "        print('early stop')\n",
    "        break\n",
    "\n",
    "    if valid_mean_loss < best_valid_loss:\n",
    "        best_valid_loss = valid_mean_loss\n",
    "        torch.save(classifier, \"best_classifier.pth\")\n",
    "        \n",
    "torch.save(classifier, \"last_classifier.pth\")"
   ]
  },
  {
   "cell_type": "code",
   "execution_count": 24,
   "id": "1a90b3c6-d3b2-4104-9a4b-86ed1828f108",
   "metadata": {},
   "outputs": [
    {
     "data": {
      "text/plain": [
       "(0.6536384532699507, 0.6463814634223317, 0.6550496678019679)"
      ]
     },
     "execution_count": 24,
     "metadata": {},
     "output_type": "execute_result"
    }
   ],
   "source": [
    "np.mean(losses), best_valid_loss, valid_mean_loss"
   ]
  },
  {
   "cell_type": "code",
   "execution_count": 25,
   "id": "2dc0cb46-53bd-41c4-9a35-ab223324ed38",
   "metadata": {},
   "outputs": [],
   "source": [
    "classifier = torch.load('best_classifier.pth')"
   ]
  },
  {
   "cell_type": "code",
   "execution_count": 51,
   "id": "3522ebd8-9c9a-4bc3-ad57-f703f4a4603b",
   "metadata": {},
   "outputs": [
    {
     "name": "stderr",
     "output_type": "stream",
     "text": [
      "/opt/anaconda3/lib/python3.9/site-packages/sklearn/metrics/_classification.py:1318: UndefinedMetricWarning: Precision is ill-defined and being set to 0.0 due to no predicted samples. Use `zero_division` parameter to control this behavior.\n",
      "  _warn_prf(average, modifier, msg_start, len(result))\n",
      "/opt/anaconda3/lib/python3.9/site-packages/sklearn/metrics/_classification.py:1318: UndefinedMetricWarning: Precision is ill-defined and being set to 0.0 due to no predicted samples. Use `zero_division` parameter to control this behavior.\n",
      "  _warn_prf(average, modifier, msg_start, len(result))\n",
      "/opt/anaconda3/lib/python3.9/site-packages/sklearn/metrics/_classification.py:1318: UndefinedMetricWarning: Precision is ill-defined and being set to 0.0 due to no predicted samples. Use `zero_division` parameter to control this behavior.\n",
      "  _warn_prf(average, modifier, msg_start, len(result))\n",
      "/opt/anaconda3/lib/python3.9/site-packages/sklearn/metrics/_classification.py:1318: UndefinedMetricWarning: Precision is ill-defined and being set to 0.0 due to no predicted samples. Use `zero_division` parameter to control this behavior.\n",
      "  _warn_prf(average, modifier, msg_start, len(result))\n",
      "/opt/anaconda3/lib/python3.9/site-packages/sklearn/metrics/_classification.py:1318: UndefinedMetricWarning: Precision is ill-defined and being set to 0.0 due to no predicted samples. Use `zero_division` parameter to control this behavior.\n",
      "  _warn_prf(average, modifier, msg_start, len(result))\n"
     ]
    },
    {
     "data": {
      "image/png": "[encoded data removed]",
      "text/plain": [
       "<Figure size 640x480 with 1 Axes>"
      ]
     },
     "metadata": {},
     "output_type": "display_data"
    }
   ],
   "source": [
    "step_threshold = 3\n",
    "min_threshold, max_threshold = 40, 80\n",
    "\n",
    "f1_results = []\n",
    "accuracies = []\n",
    "precisions = []\n",
    "recalls = []\n",
    "roc_aucs = []\n",
    "\n",
    "thresholds_range = range(min_threshold, max_threshold, step_threshold)\n",
    "\n",
    "classifier.eval()\n",
    "\n",
    "y_hats = []\n",
    "y_true = []\n",
    "for n_step, (batch, targets) in enumerate(train_loader):\n",
    "\n",
    "    batch = batch.to(classifier.device)\n",
    "\n",
    "    with torch.no_grad():\n",
    "        logits = classifier(batch, batch.attention_mask)\n",
    "\n",
    "    outputs = F.softmax(logits.detach().cpu(), dim=1)[:, 1]\n",
    "    \n",
    "    y_hats.extend(outputs.tolist())\n",
    "    y_true.extend(targets.tolist())\n",
    "\n",
    "for i in thresholds_range:\n",
    "    thresholded_y_hats = np.array(y_hats) > i / 100\n",
    "    f1_results.append(f1_score(y_true, thresholded_y_hats))\n",
    "    accuracies.append(accuracy_score(y_true, thresholded_y_hats))\n",
    "    precisions.append(precision_score(y_true, thresholded_y_hats))\n",
    "    recalls.append(recall_score(y_true, thresholded_y_hats))\n",
    "    roc_aucs.append(roc_auc_score(y_true, y_hats))\n",
    "    \n",
    "plt.plot(thresholds_range, f1_results, label='f1-score')\n",
    "plt.plot(thresholds_range, accuracies, label='accuracy')\n",
    "plt.plot(thresholds_range, precisions, label='precision')\n",
    "plt.plot(thresholds_range, recalls, label='recall')\n",
    "plt.plot(thresholds_range, roc_aucs, label='roc-auc')\n",
    "\n",
    "plt.legend()\n",
    "plt.show()"
   ]
  },
  {
   "cell_type": "code",
   "execution_count": 45,
   "id": "090dc977-91d8-456b-8df5-2a01f76c645d",
   "metadata": {},
   "outputs": [],
   "source": [
    "from random import sample\n",
    "\n",
    "samples = sample(dataset[-50:], 10)\n",
    "processed_samples = ['\\n\\n'.join(['\\n'.join([f'Fact about {random_sample[\"speaker\"]}:', \n",
    "                                          random_sample['fact']]), \n",
    "                                  random_sample['dialog'],]) for random_sample in samples]"
   ]
  },
  {
   "cell_type": "code",
   "execution_count": 46,
   "id": "107f33ae-5fff-4899-8edf-e3b0776f9e18",
   "metadata": {},
   "outputs": [
    {
     "name": "stdout",
     "output_type": "stream",
     "text": [
      "Fact about bot_1:\n",
      "bot_1 is confident in their abilities to write a fantasy novel\n",
      "\n",
      "bot_0: I heard on the news the other day that there may be some change in the for-profit education business. Some government officials are discussing tuition regulation, the article may interest you.\n",
      "bot_1: Oh! I would love to read that. Can you give me a summary of what the article mentioned?\n",
      "bot_0: It basically stated that high tuition is making it harder for some students to obtain a degree which could damage many industries in the future! I'm hopeful something is done, but you know how lax the government can be when it comes to that type of stuff.\n",
      "bot_1: You're right. They are really slow to step in when it comes to the money side of education. Tuition has really grown out of control. There is no reason we should have debt before we've even entered the workforce.\n",
      "bot_0: I agree completely. I don't know that it should be completely cost free, but definitely more affordable for sure. What about you, have you read anything interesting lately?\n",
      "bot_1: I've actually been reading a few articles about the fantasy genre. It's really interesting learning about how the genre got its start and how it's developed over the decades.\n",
      "bot_0: Oh absolutely! It's by far one of my most favorite genres. Have you made any progress on the fantasy novel you were working on? I am excited to read it.\n",
      "bot_1: I haven't written anything official yet, but I have started the outline and world building process. It's been so much fun!\n",
      "bot_0: I believe in you, before you know it, you'll be the next Tamora Pierce!\n",
      "bot_1: Aww thank you! I don't know if anyone could compare to her, but that would be such an honor.\n",
      "bot_0: I'll be in the front row at your first book signing for sure :) \n",
      "bot_1: Haha you won't even have to. If I make it that far, I'll come to you with a free copy.\n"
     ]
    }
   ],
   "source": [
    "print(processed_samples[0])"
   ]
  },
  {
   "cell_type": "code",
   "execution_count": 47,
   "id": "badec630-a168-496f-91cf-ffa0a27e370d",
   "metadata": {},
   "outputs": [],
   "source": [
    "inputs = tokenizer(\n",
    "            processed_samples, \n",
    "            return_tensors=\"pt\",\n",
    "            truncation=True,\n",
    "            padding=True,\n",
    "            max_length=2048,\n",
    "        ).to(classifier.device)\n",
    "with torch.no_grad():\n",
    "    outputs = classifier(inputs, inputs.attention_mask)"
   ]
  },
  {
   "cell_type": "code",
   "execution_count": 48,
   "id": "68f6cc89-ef04-4e2a-9f15-88ee2b5fb42e",
   "metadata": {},
   "outputs": [
    {
     "data": {
      "text/plain": [
       "tensor([0.6351, 0.6573, 0.6565, 0.6376, 0.6350, 0.6341, 0.6364, 0.6359, 0.6569,\n",
       "        0.6576])"
      ]
     },
     "execution_count": 48,
     "metadata": {},
     "output_type": "execute_result"
    }
   ],
   "source": [
    "F.softmax(outputs.detach().cpu(), dim=1)[:, 1]"
   ]
  },
  {
   "cell_type": "code",
   "execution_count": 49,
   "id": "8e5c60c3-f33a-4fb8-af9c-833fd54af190",
   "metadata": {},
   "outputs": [
    {
     "data": {
      "text/plain": [
       "[1, 1, 1, 1, 0, 1, 1, 0, 0, 1]"
      ]
     },
     "execution_count": 49,
     "metadata": {},
     "output_type": "execute_result"
    }
   ],
   "source": [
    "[int(random_sample['target']) for random_sample in samples]"
   ]
  },
  {
   "cell_type": "code",
   "execution_count": 50,
   "id": "48b8d04a-b686-4df7-9330-a3e358fdc196",
   "metadata": {},
   "outputs": [
    {
     "data": {
      "text/plain": [
       "0.6190476190476191"
      ]
     },
     "execution_count": 50,
     "metadata": {},
     "output_type": "execute_result"
    }
   ],
   "source": [
    "roc_auc_score([int(random_sample['target']) for random_sample in samples], F.softmax(outputs.detach().cpu(), dim=1)[:, 1])"
   ]
  },
  {
   "cell_type": "code",
   "execution_count": null,
   "id": "da8cbc76-ffdc-4457-9deb-aa2d3a1021ca",
   "metadata": {},
   "outputs": [
    {
     "data": {
      "text/plain": [
       "90.0"
      ]
     },
     "execution_count": 166,
     "metadata": {},
     "output_type": "execute_result"
    }
   ],
   "source": [
    "100 - (100 * .1) * 1"
   ]
  },
  {
   "cell_type": "code",
   "execution_count": null,
   "id": "5103203c-b731-4f34-a2ae-4baa22587584",
   "metadata": {},
   "outputs": [
    {
     "data": {
      "text/plain": [
       "100.0"
      ]
     },
     "execution_count": 170,
     "metadata": {},
     "output_type": "execute_result"
    }
   ],
   "source": [
    "100 / 1"
   ]
  }
 ],
 "metadata": {
  "kernelspec": {
   "display_name": "Python 3 (ipykernel)",
   "language": "python",
   "name": "python3"
  },
  "language_info": {
   "codemirror_mode": {
    "name": "ipython",
    "version": 3
   },
   "file_extension": ".py",
   "mimetype": "text/x-python",
   "name": "python",
   "nbconvert_exporter": "python",
   "pygments_lexer": "ipython3",
   "version": "3.9.13"
  }
 },
 "nbformat": 4,
 "nbformat_minor": 5
}
