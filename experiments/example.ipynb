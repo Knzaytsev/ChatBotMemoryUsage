{
 "cells": [
  {
   "cell_type": "code",
   "execution_count": 1,
   "id": "1f71cac8",
   "metadata": {},
   "outputs": [],
   "source": [
    "import torch\n",
    "\n",
    "from transformers import AutoTokenizer, AutoModelForCausalLM"
   ]
  },
  {
   "cell_type": "code",
   "execution_count": 2,
   "id": "eb3ce685",
   "metadata": {},
   "outputs": [
    {
     "data": {
      "application/vnd.jupyter.widget-view+json": {
       "model_id": "d0de33c034184c0a9f4772d27087bce9",
       "version_major": 2,
       "version_minor": 0
      },
      "text/plain": [
       "Downloading:   0%|          | 0.00/685 [00:00<?, ?B/s]"
      ]
     },
     "metadata": {},
     "output_type": "display_data"
    },
    {
     "data": {
      "application/vnd.jupyter.widget-view+json": {
       "model_id": "51167914d03240a78e47f263150f29dc",
       "version_major": 2,
       "version_minor": 0
      },
      "text/plain": [
       "Downloading:   0%|          | 0.00/651 [00:00<?, ?B/s]"
      ]
     },
     "metadata": {},
     "output_type": "display_data"
    },
    {
     "data": {
      "application/vnd.jupyter.widget-view+json": {
       "model_id": "7ff9c40319874b85868123e775439a24",
       "version_major": 2,
       "version_minor": 0
      },
      "text/plain": [
       "Downloading:   0%|          | 0.00/899k [00:00<?, ?B/s]"
      ]
     },
     "metadata": {},
     "output_type": "display_data"
    },
    {
     "data": {
      "application/vnd.jupyter.widget-view+json": {
       "model_id": "70c9409cafd444ffb498d6c12ef14296",
       "version_major": 2,
       "version_minor": 0
      },
      "text/plain": [
       "Downloading:   0%|          | 0.00/456k [00:00<?, ?B/s]"
      ]
     },
     "metadata": {},
     "output_type": "display_data"
    },
    {
     "data": {
      "application/vnd.jupyter.widget-view+json": {
       "model_id": "3343bbf7b5c342a2b9de1275252d724d",
       "version_major": 2,
       "version_minor": 0
      },
      "text/plain": [
       "Downloading:   0%|          | 0.00/441 [00:00<?, ?B/s]"
      ]
     },
     "metadata": {},
     "output_type": "display_data"
    },
    {
     "data": {
      "application/vnd.jupyter.widget-view+json": {
       "model_id": "5836e3453f68444a89087981c4e2ae55",
       "version_major": 2,
       "version_minor": 0
      },
      "text/plain": [
       "Downloading:   0%|          | 0.00/251M [00:00<?, ?B/s]"
      ]
     },
     "metadata": {},
     "output_type": "display_data"
    },
    {
     "data": {
      "application/vnd.jupyter.widget-view+json": {
       "model_id": "ad5a1fae4d104674988bba22b3af4a2d",
       "version_major": 2,
       "version_minor": 0
      },
      "text/plain": [
       "Downloading:   0%|          | 0.00/137 [00:00<?, ?B/s]"
      ]
     },
     "metadata": {},
     "output_type": "display_data"
    }
   ],
   "source": [
    "tokenizer = AutoTokenizer.from_pretrained(\"facebook/opt-125m\")\n",
    "\n",
    "model = AutoModelForCausalLM.from_pretrained(\"facebook/opt-125m\")"
   ]
  },
  {
   "cell_type": "code",
   "execution_count": 3,
   "id": "7afca1c0",
   "metadata": {},
   "outputs": [],
   "source": [
    "text = [\n",
    "    \"Human: hello, it's me\\nPerson: Who are you?\",\n",
    "    \"Human: Hi\\nBot: Hey there! I found out something interesting today that I think you'll love. Can't wait to share it with you!\\nHuman: Hey. What do you want?\"\n",
    "]\n"
   ]
  },
  {
   "cell_type": "code",
   "execution_count": 4,
   "id": "4870bb39",
   "metadata": {},
   "outputs": [
    {
     "data": {
      "text/plain": [
       "[\"Human: hello, it's me\\nPerson: Who are you?\",\n",
       " \"Human: Hi\\nBot: Hey there! I found out something interesting today that I think you'll love. Can't wait to share it with you!\\nHuman: Hey. What do you want?\"]"
      ]
     },
     "execution_count": 4,
     "metadata": {},
     "output_type": "execute_result"
    }
   ],
   "source": [
    "text"
   ]
  },
  {
   "cell_type": "code",
   "execution_count": 24,
   "id": "154859b3",
   "metadata": {},
   "outputs": [],
   "source": [
    "batch_contexts = list()\n",
    "batch_targets = list()\n",
    "\n",
    "batch_max_length = 0\n",
    "\n",
    "batch = list()\n",
    "\n",
    "for sample in text:\n",
    "    parts = sample.split('\\n')\n",
    "    context_str = \"\\n\".join(parts[:-1])\n",
    "    response = parts[-1]\n",
    "    \n",
    "    tokenized_context = tokenizer(context_str).input_ids\n",
    "    tokenized_response = tokenizer(response).input_ids[1:] + [tokenizer.eos_token_id]\n",
    "    \n",
    "    targets = [tokenizer.pad_token_id] * len(tokenized_context) + tokenized_response[1:]\n",
    "    tokenized_context = tokenized_context + [tokenizer.pad_token_id] * len(tokenized_response[:-1])\n",
    "    \n",
    "    if len(tokenized_context) > batch_max_length:\n",
    "        batch_max_length = len(tokenized_context)\n",
    "        \n",
    "    batch_contexts.append(tokenized_context)\n",
    "    batch_targets.append(targets)\n",
    "\n",
    "    \n",
    "for sample_index in range(len(batch_contexts)):\n",
    "    pad_sequence = [tokenizer.pad_token_id] * (batch_max_length - len(batch_contexts[sample_index]))\n",
    "    batch_contexts[sample_index] += pad_sequence\n",
    "    batch_targets[sample_index] += pad_sequence\n",
    "     \n",
    "batch_contexts = torch.tensor(batch_contexts)\n",
    "batch_targets = torch.tensor(batch_targets)"
   ]
  },
  {
   "cell_type": "code",
   "execution_count": 25,
   "id": "4717ee08-313a-41a4-8ad5-46bbf0a64770",
   "metadata": {},
   "outputs": [
    {
     "data": {
      "text/plain": [
       "\"</s>Human: hello, it's me<pad><pad><pad><pad><pad><pad><pad><pad><pad><pad><pad><pad><pad><pad><pad><pad><pad><pad><pad><pad><pad><pad><pad><pad><pad><pad><pad><pad><pad><pad><pad><pad><pad>\""
      ]
     },
     "execution_count": 25,
     "metadata": {},
     "output_type": "execute_result"
    }
   ],
   "source": [
    "tokenizer.decode(batch_contexts[0])"
   ]
  },
  {
   "cell_type": "code",
   "execution_count": 27,
   "id": "9a5aa069-95a5-458f-bd22-74f21706602f",
   "metadata": {},
   "outputs": [
    {
     "data": {
      "text/plain": [
       "'<pad><pad><pad><pad><pad><pad><pad><pad>: Who are you?</s><pad><pad><pad><pad><pad><pad><pad><pad><pad><pad><pad><pad><pad><pad><pad><pad><pad><pad><pad><pad><pad><pad><pad><pad><pad><pad><pad>'"
      ]
     },
     "execution_count": 27,
     "metadata": {},
     "output_type": "execute_result"
    }
   ],
   "source": [
    "tokenizer.decode(batch_targets[0])"
   ]
  },
  {
   "cell_type": "code",
   "execution_count": 28,
   "id": "84423d4b",
   "metadata": {},
   "outputs": [],
   "source": [
    "criterion = torch.nn.CrossEntropyLoss(ignore_index=tokenizer.pad_token_id)"
   ]
  },
  {
   "cell_type": "code",
   "execution_count": 29,
   "id": "38d8d884",
   "metadata": {},
   "outputs": [],
   "source": [
    "attention_mask = (batch_contexts != tokenizer.pad_token_id).long()"
   ]
  },
  {
   "cell_type": "code",
   "execution_count": 30,
   "id": "85e64c33",
   "metadata": {},
   "outputs": [],
   "source": [
    "model_outputs = model.forward(input_ids=batch_contexts, attention_mask=attention_mask)"
   ]
  },
  {
   "cell_type": "code",
   "execution_count": 31,
   "id": "f1ae55ae",
   "metadata": {},
   "outputs": [
    {
     "data": {
      "text/plain": [
       "torch.Size([2, 41, 50272])"
      ]
     },
     "execution_count": 31,
     "metadata": {},
     "output_type": "execute_result"
    }
   ],
   "source": [
    "model_outputs.logits.shape"
   ]
  },
  {
   "cell_type": "code",
   "execution_count": 32,
   "id": "476ca684",
   "metadata": {},
   "outputs": [],
   "source": [
    "loss = criterion(\n",
    "    model_outputs.logits.view(-1, model_outputs.logits.size(-1)),\n",
    "    batch_targets.view(-1)\n",
    ")"
   ]
  },
  {
   "cell_type": "code",
   "execution_count": 33,
   "id": "5732803d",
   "metadata": {},
   "outputs": [
    {
     "data": {
      "text/plain": [
       "tensor(7.4017, grad_fn=<NllLossBackward0>)"
      ]
     },
     "execution_count": 33,
     "metadata": {},
     "output_type": "execute_result"
    }
   ],
   "source": [
    "loss"
   ]
  },
  {
   "cell_type": "code",
   "execution_count": null,
   "id": "1a285069",
   "metadata": {},
   "outputs": [],
   "source": []
  }
 ],
 "metadata": {
  "kernelspec": {
   "display_name": "Python 3 (ipykernel)",
   "language": "python",
   "name": "python3"
  },
  "language_info": {
   "codemirror_mode": {
    "name": "ipython",
    "version": 3
   },
   "file_extension": ".py",
   "mimetype": "text/x-python",
   "name": "python",
   "nbconvert_exporter": "python",
   "pygments_lexer": "ipython3",
   "version": "3.9.13"
  }
 },
 "nbformat": 4,
 "nbformat_minor": 5
}
