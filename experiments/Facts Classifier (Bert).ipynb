{
 "cells": [
  {
   "cell_type": "code",
   "execution_count": 1,
   "id": "61c1ee34-6116-4d76-bbb2-dab8330ef4f7",
   "metadata": {},
   "outputs": [],
   "source": [
    "# !pip install transformers\n",
    "# !pip install optuna"
   ]
  },
  {
   "cell_type": "code",
   "execution_count": 1,
   "id": "16d64f59-cbb6-4ffe-b642-bc08f572d56e",
   "metadata": {},
   "outputs": [
    {
     "name": "stderr",
     "output_type": "stream",
     "text": [
      "Some weights of the model checkpoint at kabita-choudhary/finetuned-bart-for-conversation-summary were not used when initializing BartForSequenceClassification: ['final_logits_bias', 'lm_head.weight']\n",
      "- This IS expected if you are initializing BartForSequenceClassification from the checkpoint of a model trained on another task or with another architecture (e.g. initializing a BertForSequenceClassification model from a BertForPreTraining model).\n",
      "- This IS NOT expected if you are initializing BartForSequenceClassification from the checkpoint of a model that you expect to be exactly identical (initializing a BertForSequenceClassification model from a BertForSequenceClassification model).\n",
      "Some weights of BartForSequenceClassification were not initialized from the model checkpoint at kabita-choudhary/finetuned-bart-for-conversation-summary and are newly initialized: ['classification_head.dense.bias', 'classification_head.dense.weight', 'classification_head.out_proj.bias', 'classification_head.out_proj.weight']\n",
      "You should probably TRAIN this model on a down-stream task to be able to use it for predictions and inference.\n"
     ]
    }
   ],
   "source": [
    "import os\n",
    "os.environ[\"TOKENIZERS_PARALLELISM\"] = \"false\"\n",
    "import torch\n",
    "import torch.nn as nn\n",
    "import torch.nn.functional as F\n",
    "from torch import Tensor\n",
    "from transformers import AutoTokenizer, AutoConfig, BertForSequenceClassification, BartForSequenceClassification\n",
    "from sklearn.metrics import f1_score, accuracy_score, precision_score, recall_score, roc_auc_score\n",
    "import re\n",
    "import matplotlib.pyplot as plt\n",
    "from random import sample\n",
    "\n",
    "device = \"mps\"\n",
    "\n",
    "tokenizer = AutoTokenizer.from_pretrained(\"kabita-choudhary/finetuned-bart-for-conversation-summary\", )\n",
    "\n",
    "model = BartForSequenceClassification.from_pretrained(\"kabita-choudhary/finetuned-bart-for-conversation-summary\", num_labels=2)"
   ]
  },
  {
   "cell_type": "code",
   "execution_count": 2,
   "id": "9b3c5bc2-0b3b-4a45-9a74-d19d4135967f",
   "metadata": {},
   "outputs": [],
   "source": [
    "model = model.to(device)"
   ]
  },
  {
   "cell_type": "code",
   "execution_count": 3,
   "id": "3c7669d8-2afb-49e3-b6aa-dff875c12186",
   "metadata": {},
   "outputs": [],
   "source": [
    "import json\n",
    "\n",
    "with open('speakers_facts.json', 'r') as f:\n",
    "    annotated_data = json.loads(f.read())"
   ]
  },
  {
   "cell_type": "code",
   "execution_count": 4,
   "id": "ada08ddc-5f76-40d8-b704-b3c324bcd42b",
   "metadata": {},
   "outputs": [],
   "source": [
    "remove_blank_facts = lambda x: [fact for fact in x if len(fact) >= 7 or not fact.endswith(':')]\n",
    "preprocess_fact = lambda x: re.sub(r'^[\\*\\d]+\\.?\\s+', '', x)\n",
    "speaker_mapper = {'facts_s1': 's1', 'facts_s2': 's2'}\n",
    "\n",
    "annotated_data = [{\n",
    "    'dialog': dialog['data']['dialogue'], \n",
    "    'correct_facts': {speaker_mapper[facts['from_name']]: remove_blank_facts([preprocess_fact(fact) for fact in facts['value']['choices']])\n",
    "                      for facts in dialog['annotations'][0]['result'] if facts['from_name'] in speaker_mapper.keys()},\n",
    "    'facts': {'s1': remove_blank_facts([preprocess_fact(fact['value']) for fact in dialog['data']['s1']]), \n",
    "              's2': remove_blank_facts([preprocess_fact(fact['value']) for fact in dialog['data']['s2']])},\n",
    "    'summary': dialog['data']['summary']\n",
    "        }\n",
    "    for dialog in annotated_data]"
   ]
  },
  {
   "cell_type": "code",
   "execution_count": 5,
   "id": "97ff282d-8031-4713-a98b-bc9dc124f30b",
   "metadata": {},
   "outputs": [],
   "source": [
    "speaker_mapper = {'s1': 'bot_0', 's2': 'bot_1'}\n",
    "\n",
    "facts_set = {'s1': [fact for data in annotated_data for fact in data['facts']['s1']], \n",
    "             's2': [fact for data in annotated_data for fact in data['facts']['s2']]}\n",
    "\n",
    "dataset = [{\n",
    "    'dialog': '\\n'.join([f'{phrase[\"author\"]}: {phrase[\"text\"]}' \n",
    "                         for phrase in dialog['dialog'] \n",
    "                        ]),\n",
    "    'speaker': speaker_mapper[speaker],\n",
    "    'fact': fact, \n",
    "    'target': fact in dialog['correct_facts'].get(speaker, []),\n",
    "    'summary': dialog['summary']\n",
    "} for dialog in annotated_data for speaker, facts in dialog['facts'].items() \n",
    "    for fact in facts]"
   ]
  },
  {
   "cell_type": "code",
   "execution_count": 6,
   "id": "ae49a217-fc34-48c0-8a59-884a8716de65",
   "metadata": {},
   "outputs": [],
   "source": [
    "from torch.utils.data import Dataset, DataLoader\n",
    "\n",
    "class ClassifierDataset(Dataset):\n",
    "\n",
    "    def __init__(self, data):\n",
    "        super().__init__()\n",
    "\n",
    "        self.data = data\n",
    "\n",
    "    def __len__(self):\n",
    "        return len(self.data)\n",
    "\n",
    "    def __getitem__(self, index):\n",
    "\n",
    "        sample = self.data[index]\n",
    "\n",
    "        context = '\\n\\n'.join(['\\n'.join([f'Fact about {sample[\"speaker\"]}:', sample['fact']]),\n",
    "                               sample['dialog'], ])\n",
    "        \n",
    "        target = sample['target']\n",
    "\n",
    "        return context, target"
   ]
  },
  {
   "cell_type": "code",
   "execution_count": 7,
   "id": "d6d7026e-e55e-4335-a516-e720d0935b16",
   "metadata": {},
   "outputs": [],
   "source": [
    "class Collator:\n",
    "\n",
    "    def __init__(self, tokenizer, max_length=512):\n",
    "\n",
    "        self.tokenizer = tokenizer\n",
    "\n",
    "        self.max_length = max_length\n",
    "\n",
    "    def __call__(self, batch):\n",
    "\n",
    "        inputs = []\n",
    "        targets = []\n",
    "\n",
    "        for context, target in batch:\n",
    "            inputs.append(context)\n",
    "            targets.append(target)\n",
    "\n",
    "        tokenized_input = self.tokenizer(\n",
    "            inputs, \n",
    "            return_tensors=\"pt\",\n",
    "            truncation=True,\n",
    "            padding=True,\n",
    "            max_length=self.max_length,\n",
    "        )\n",
    "\n",
    "        return tokenized_input, torch.LongTensor(targets)"
   ]
  },
  {
   "cell_type": "code",
   "execution_count": 8,
   "id": "22b55180-a8e5-4bcb-bfae-0ba803f6ebeb",
   "metadata": {},
   "outputs": [],
   "source": [
    "from random import sample\n",
    "\n",
    "BATCH_SIZE = 2\n",
    "\n",
    "train_dataset = ClassifierDataset(data=dataset[:int(len(dataset)*.8)])\n",
    "valid_dataset = ClassifierDataset(data=dataset[int(len(dataset)*.8):])\n",
    "\n",
    "collator = Collator(tokenizer=tokenizer)\n",
    "\n",
    "train_loader = DataLoader(train_dataset, batch_size=BATCH_SIZE, collate_fn=collator, shuffle=True)\n",
    "valid_loader = DataLoader(valid_dataset, batch_size=BATCH_SIZE, collate_fn=collator, shuffle=True)"
   ]
  },
  {
   "cell_type": "code",
   "execution_count": 9,
   "id": "54262944-6284-4482-bed2-7a47af026308",
   "metadata": {},
   "outputs": [],
   "source": [
    "for x, y in train_loader:\n",
    "    break"
   ]
  },
  {
   "cell_type": "code",
   "execution_count": 10,
   "id": "d26b3fb0-e672-4e01-8ca5-9c6a9ae3cb6b",
   "metadata": {},
   "outputs": [],
   "source": [
    "from tqdm import tqdm\n",
    "import numpy as np\n",
    "\n",
    "def loop(n_epoch, is_train, criterion, optimizer, model, loader, grad_acum_steps=1):\n",
    "    \n",
    "    global_step = len(loader) // grad_acum_steps * n_epoch\n",
    "\n",
    "\n",
    "    all_predictions = list()\n",
    "    all_targets = list()\n",
    "\n",
    "    losses = list()\n",
    "    f1_scores = list()\n",
    "    accuracies = list()\n",
    "    rocs = list()\n",
    "\n",
    "    progress_bar = tqdm(total=len(loader) // grad_acum_steps, desc=\"Train\" if is_train else \"Valid\")\n",
    "\n",
    "    if is_train:\n",
    "        model.train()\n",
    "    else:\n",
    "        model.eval()\n",
    "\n",
    "    losses = list()\n",
    "\n",
    "    for n_step, (batch, targets) in enumerate(loader):\n",
    "\n",
    "        batch = batch.to(model.device)\n",
    "        targets = targets.to(model.device)\n",
    "\n",
    "        if is_train:\n",
    "            optimizer.zero_grad()\n",
    "            logits = model(**batch).logits\n",
    "        else:\n",
    "            with torch.no_grad():\n",
    "                logits = model(**batch).logits\n",
    "\n",
    "        loss = criterion(logits, targets)\n",
    "\n",
    "        f1_scores.append(f1_score(targets.detach().cpu(), \n",
    "                                  logits.detach().cpu().argmax(1), \n",
    "                                  zero_division=False))\n",
    "        accuracies.append(accuracy_score(targets.detach().cpu(), \n",
    "                                         logits.detach().cpu().argmax(1)))\n",
    "        \n",
    "        try:\n",
    "            rocs.append(roc_auc_score(targets.detach().cpu(), \n",
    "                                      F.softmax(logits.detach().cpu(), dim=1)[:, 1]))\n",
    "        except:\n",
    "            rocs.append(0)\n",
    "            pass\n",
    "        \n",
    "        losses.append(loss.item())\n",
    "\n",
    "        if is_train:\n",
    "            loss.backward()\n",
    "            torch.nn.utils.clip_grad_norm_(parameters=model.parameters(), max_norm=0.7)\n",
    "            optimizer.step()\n",
    "        progress_bar.update()\n",
    "        progress_bar.set_postfix(loss=np.mean(losses[-100:]), \n",
    "                                 f1_score=np.mean(f1_scores[-100:]),\n",
    "                                 accuracy=np.mean(accuracies[-100:]), \n",
    "                                 roc_auc=np.mean(rocs[-100:]))\n",
    "\n",
    "        global_step += 1\n",
    "\n",
    "\n",
    "    progress_bar.close()\n",
    "\n",
    "    return losses, f1_scores, accuracies, rocs"
   ]
  },
  {
   "cell_type": "code",
   "execution_count": 11,
   "id": "2112ab6b-593d-430e-9ce3-719245a005f6",
   "metadata": {},
   "outputs": [],
   "source": [
    "import optuna\n",
    "from optuna.trial import TrialState\n",
    "\n",
    "def define_model(trial):\n",
    "    pooling_type = \"mean\"\n",
    "    dropout = trial.suggest_float(\"dropout\", .1, .7)\n",
    "    normalize = trial.suggest_int(\"normalize\", False, True)\n",
    "    embedding_masking = trial.suggest_int(\"embedding_masking\", False, True)\n",
    "\n",
    "    pooling = GlobalMaskedPooling(pooling_type=pooling_type, normalize=normalize, \n",
    "                                  embedding_masking=embedding_masking)\n",
    "    classifier = Classifier(model, pooling, dropout, 2)\n",
    "    return classifier\n",
    "\n",
    "def get_dataset_loaders():\n",
    "    train_dataset = ClassifierDataset(data=dataset[:int(len(dataset)*.8)])\n",
    "    valid_dataset = ClassifierDataset(data=dataset[int(len(dataset)*.8):])\n",
    "\n",
    "    collator = Collator(tokenizer=tokenizer)\n",
    "\n",
    "    train_loader = DataLoader(train_dataset, batch_size=BATCH_SIZE, collate_fn=collator, shuffle=True)\n",
    "    valid_loader = DataLoader(valid_dataset, batch_size=BATCH_SIZE, collate_fn=collator, shuffle=True)\n",
    "\n",
    "    return train_loader, valid_loader\n",
    "\n",
    "def objective(trial):\n",
    "    model = define_model(trial).to('mps')\n",
    "\n",
    "    lr = trial.suggest_float(\"lr\", 1e-7, 1e-3, log=True)\n",
    "    optimizer = torch.optim.AdamW(params=model.parameters(), lr=lr)\n",
    "\n",
    "    criterion = nn.CrossEntropyLoss()\n",
    "\n",
    "    train_loader, valid_loader = get_dataset_loaders()\n",
    "\n",
    "    # Training of the model.\n",
    "    for epoch in range(5):\n",
    "        model.train()\n",
    "        for batch_idx, (data, target) in enumerate(train_loader):\n",
    "            data = data.to(model.device)\n",
    "            target = target.to(model.device)\n",
    "\n",
    "            optimizer.zero_grad()\n",
    "            output = model(data, data.attention_mask)\n",
    "            loss = criterion(output, target)\n",
    "            loss.backward()\n",
    "            optimizer.step()\n",
    "\n",
    "        # Validation of the model.\n",
    "        model.eval()\n",
    "        correct = 0\n",
    "        f1_scores = list()\n",
    "        outputs = list()\n",
    "        targets = list()\n",
    "        with torch.no_grad():\n",
    "            for batch_idx, (data, target) in enumerate(valid_loader):\n",
    "                data = data.to(model.device)\n",
    "                target = target.to(model.device)\n",
    "\n",
    "                output = model(data, data.attention_mask)\n",
    "                # Get the index of the max log-probability.\n",
    "                pred = output.detach().cpu().argmax(dim=1, keepdim=True)\n",
    "                correct += pred.eq(target.detach().cpu().view_as(pred)).sum().item()\n",
    "                \n",
    "                outputs.extend(F.softmax(output.detach().cpu(), dim=1)[:, 1])\n",
    "                targets.extend(target.detach().cpu())\n",
    "\n",
    "        accuracy = correct / len(valid_loader.dataset)\n",
    "        # f1 = f1_score(targets, outputs)\n",
    "        roc_auc = 0\n",
    "        try:\n",
    "            roc_auc = roc_auc_score(targets, outputs)\n",
    "        except Exception as e:\n",
    "            print(e)\n",
    "            pass\n",
    "\n",
    "        trial.report(roc_auc, epoch)\n",
    "\n",
    "        # Handle pruning based on the intermediate value.\n",
    "        if trial.should_prune():\n",
    "            raise optuna.exceptions.TrialPruned()\n",
    "\n",
    "    return roc_auc"
   ]
  },
  {
   "cell_type": "code",
   "execution_count": 14,
   "id": "0106afde-6407-4fc7-9dc5-8f4af3837e48",
   "metadata": {},
   "outputs": [],
   "source": [
    "criterion = nn.CrossEntropyLoss()\n",
    "\n",
    "\n",
    "optimizer = torch.optim.AdamW(params=model.parameters(), lr=2e-09)"
   ]
  },
  {
   "cell_type": "code",
   "execution_count": 15,
   "id": "c42f6680-d089-40d3-9971-28eabf273b30",
   "metadata": {},
   "outputs": [
    {
     "name": "stderr",
     "output_type": "stream",
     "text": [
      "Train:  12%|█▏        | 80/677 [14:03<2:01:55, 12.25s/it, accuracy=0.456, f1_score=0.458, loss=0.715, roc_auc=0.237]"
     ]
    },
    {
     "ename": "KeyboardInterrupt",
     "evalue": "",
     "output_type": "error",
     "traceback": [
      "\u001b[0;31m---------------------------------------------------------------------------\u001b[0m",
      "\u001b[0;31mKeyboardInterrupt\u001b[0m                         Traceback (most recent call last)",
      "\u001b[0;32m/var/folders/88/77rz0tyn27s99tjty03mzhz80000gn/T/ipykernel_97645/1437268945.py\u001b[0m in \u001b[0;36m<module>\u001b[0;34m\u001b[0m\n\u001b[1;32m     10\u001b[0m     \u001b[0mtorch\u001b[0m\u001b[0;34m.\u001b[0m\u001b[0mmps\u001b[0m\u001b[0;34m.\u001b[0m\u001b[0mempty_cache\u001b[0m\u001b[0;34m(\u001b[0m\u001b[0;34m)\u001b[0m\u001b[0;34m\u001b[0m\u001b[0;34m\u001b[0m\u001b[0m\n\u001b[1;32m     11\u001b[0m \u001b[0;34m\u001b[0m\u001b[0m\n\u001b[0;32m---> 12\u001b[0;31m     train_losses, train_f1_scores, train_accuracies, train_roc_auc = loop(n_epoch, True, \n\u001b[0m\u001b[1;32m     13\u001b[0m                                                                           \u001b[0mcriterion\u001b[0m\u001b[0;34m,\u001b[0m\u001b[0;34m\u001b[0m\u001b[0;34m\u001b[0m\u001b[0m\n\u001b[1;32m     14\u001b[0m                                                                           \u001b[0moptimizer\u001b[0m\u001b[0;34m,\u001b[0m \u001b[0mmodel\u001b[0m\u001b[0;34m,\u001b[0m\u001b[0;34m\u001b[0m\u001b[0;34m\u001b[0m\u001b[0m\n",
      "\u001b[0;32m/var/folders/88/77rz0tyn27s99tjty03mzhz80000gn/T/ipykernel_97645/1035728040.py\u001b[0m in \u001b[0;36mloop\u001b[0;34m(n_epoch, is_train, criterion, optimizer, model, loader, grad_acum_steps)\u001b[0m\n\u001b[1;32m     31\u001b[0m         \u001b[0;32mif\u001b[0m \u001b[0mis_train\u001b[0m\u001b[0;34m:\u001b[0m\u001b[0;34m\u001b[0m\u001b[0;34m\u001b[0m\u001b[0m\n\u001b[1;32m     32\u001b[0m             \u001b[0moptimizer\u001b[0m\u001b[0;34m.\u001b[0m\u001b[0mzero_grad\u001b[0m\u001b[0;34m(\u001b[0m\u001b[0;34m)\u001b[0m\u001b[0;34m\u001b[0m\u001b[0;34m\u001b[0m\u001b[0m\n\u001b[0;32m---> 33\u001b[0;31m             \u001b[0mlogits\u001b[0m \u001b[0;34m=\u001b[0m \u001b[0mmodel\u001b[0m\u001b[0;34m(\u001b[0m\u001b[0;34m**\u001b[0m\u001b[0mbatch\u001b[0m\u001b[0;34m)\u001b[0m\u001b[0;34m.\u001b[0m\u001b[0mlogits\u001b[0m\u001b[0;34m\u001b[0m\u001b[0;34m\u001b[0m\u001b[0m\n\u001b[0m\u001b[1;32m     34\u001b[0m         \u001b[0;32melse\u001b[0m\u001b[0;34m:\u001b[0m\u001b[0;34m\u001b[0m\u001b[0;34m\u001b[0m\u001b[0m\n\u001b[1;32m     35\u001b[0m             \u001b[0;32mwith\u001b[0m \u001b[0mtorch\u001b[0m\u001b[0;34m.\u001b[0m\u001b[0mno_grad\u001b[0m\u001b[0;34m(\u001b[0m\u001b[0;34m)\u001b[0m\u001b[0;34m:\u001b[0m\u001b[0;34m\u001b[0m\u001b[0;34m\u001b[0m\u001b[0m\n",
      "\u001b[0;32m/opt/anaconda3/lib/python3.9/site-packages/torch/nn/modules/module.py\u001b[0m in \u001b[0;36m_call_impl\u001b[0;34m(self, *args, **kwargs)\u001b[0m\n\u001b[1;32m   1499\u001b[0m                 \u001b[0;32mor\u001b[0m \u001b[0m_global_backward_pre_hooks\u001b[0m \u001b[0;32mor\u001b[0m \u001b[0m_global_backward_hooks\u001b[0m\u001b[0;34m\u001b[0m\u001b[0;34m\u001b[0m\u001b[0m\n\u001b[1;32m   1500\u001b[0m                 or _global_forward_hooks or _global_forward_pre_hooks):\n\u001b[0;32m-> 1501\u001b[0;31m             \u001b[0;32mreturn\u001b[0m \u001b[0mforward_call\u001b[0m\u001b[0;34m(\u001b[0m\u001b[0;34m*\u001b[0m\u001b[0margs\u001b[0m\u001b[0;34m,\u001b[0m \u001b[0;34m**\u001b[0m\u001b[0mkwargs\u001b[0m\u001b[0;34m)\u001b[0m\u001b[0;34m\u001b[0m\u001b[0;34m\u001b[0m\u001b[0m\n\u001b[0m\u001b[1;32m   1502\u001b[0m         \u001b[0;31m# Do not call functions when jit is used\u001b[0m\u001b[0;34m\u001b[0m\u001b[0;34m\u001b[0m\u001b[0m\n\u001b[1;32m   1503\u001b[0m         \u001b[0mfull_backward_hooks\u001b[0m\u001b[0;34m,\u001b[0m \u001b[0mnon_full_backward_hooks\u001b[0m \u001b[0;34m=\u001b[0m \u001b[0;34m[\u001b[0m\u001b[0;34m]\u001b[0m\u001b[0;34m,\u001b[0m \u001b[0;34m[\u001b[0m\u001b[0;34m]\u001b[0m\u001b[0;34m\u001b[0m\u001b[0;34m\u001b[0m\u001b[0m\n",
      "\u001b[0;32m/opt/anaconda3/lib/python3.9/site-packages/transformers/models/bart/modeling_bart.py\u001b[0m in \u001b[0;36mforward\u001b[0;34m(self, input_ids, attention_mask, decoder_input_ids, decoder_attention_mask, head_mask, decoder_head_mask, cross_attn_head_mask, encoder_outputs, inputs_embeds, decoder_inputs_embeds, labels, use_cache, output_attentions, output_hidden_states, return_dict)\u001b[0m\n\u001b[1;32m   1526\u001b[0m             )\n\u001b[1;32m   1527\u001b[0m \u001b[0;34m\u001b[0m\u001b[0m\n\u001b[0;32m-> 1528\u001b[0;31m         outputs = self.model(\n\u001b[0m\u001b[1;32m   1529\u001b[0m             \u001b[0minput_ids\u001b[0m\u001b[0;34m,\u001b[0m\u001b[0;34m\u001b[0m\u001b[0;34m\u001b[0m\u001b[0m\n\u001b[1;32m   1530\u001b[0m             \u001b[0mattention_mask\u001b[0m\u001b[0;34m=\u001b[0m\u001b[0mattention_mask\u001b[0m\u001b[0;34m,\u001b[0m\u001b[0;34m\u001b[0m\u001b[0;34m\u001b[0m\u001b[0m\n",
      "\u001b[0;32m/opt/anaconda3/lib/python3.9/site-packages/torch/nn/modules/module.py\u001b[0m in \u001b[0;36m_call_impl\u001b[0;34m(self, *args, **kwargs)\u001b[0m\n\u001b[1;32m   1499\u001b[0m                 \u001b[0;32mor\u001b[0m \u001b[0m_global_backward_pre_hooks\u001b[0m \u001b[0;32mor\u001b[0m \u001b[0m_global_backward_hooks\u001b[0m\u001b[0;34m\u001b[0m\u001b[0;34m\u001b[0m\u001b[0m\n\u001b[1;32m   1500\u001b[0m                 or _global_forward_hooks or _global_forward_pre_hooks):\n\u001b[0;32m-> 1501\u001b[0;31m             \u001b[0;32mreturn\u001b[0m \u001b[0mforward_call\u001b[0m\u001b[0;34m(\u001b[0m\u001b[0;34m*\u001b[0m\u001b[0margs\u001b[0m\u001b[0;34m,\u001b[0m \u001b[0;34m**\u001b[0m\u001b[0mkwargs\u001b[0m\u001b[0;34m)\u001b[0m\u001b[0;34m\u001b[0m\u001b[0;34m\u001b[0m\u001b[0m\n\u001b[0m\u001b[1;32m   1502\u001b[0m         \u001b[0;31m# Do not call functions when jit is used\u001b[0m\u001b[0;34m\u001b[0m\u001b[0;34m\u001b[0m\u001b[0m\n\u001b[1;32m   1503\u001b[0m         \u001b[0mfull_backward_hooks\u001b[0m\u001b[0;34m,\u001b[0m \u001b[0mnon_full_backward_hooks\u001b[0m \u001b[0;34m=\u001b[0m \u001b[0;34m[\u001b[0m\u001b[0;34m]\u001b[0m\u001b[0;34m,\u001b[0m \u001b[0;34m[\u001b[0m\u001b[0;34m]\u001b[0m\u001b[0;34m\u001b[0m\u001b[0;34m\u001b[0m\u001b[0m\n",
      "\u001b[0;32m/opt/anaconda3/lib/python3.9/site-packages/transformers/models/bart/modeling_bart.py\u001b[0m in \u001b[0;36mforward\u001b[0;34m(self, input_ids, attention_mask, decoder_input_ids, decoder_attention_mask, head_mask, decoder_head_mask, cross_attn_head_mask, encoder_outputs, past_key_values, inputs_embeds, decoder_inputs_embeds, use_cache, output_attentions, output_hidden_states, return_dict)\u001b[0m\n\u001b[1;32m   1258\u001b[0m \u001b[0;34m\u001b[0m\u001b[0m\n\u001b[1;32m   1259\u001b[0m         \u001b[0;31m# decoder outputs consists of (dec_features, past_key_value, dec_hidden, dec_attn)\u001b[0m\u001b[0;34m\u001b[0m\u001b[0;34m\u001b[0m\u001b[0m\n\u001b[0;32m-> 1260\u001b[0;31m         decoder_outputs = self.decoder(\n\u001b[0m\u001b[1;32m   1261\u001b[0m             \u001b[0minput_ids\u001b[0m\u001b[0;34m=\u001b[0m\u001b[0mdecoder_input_ids\u001b[0m\u001b[0;34m,\u001b[0m\u001b[0;34m\u001b[0m\u001b[0;34m\u001b[0m\u001b[0m\n\u001b[1;32m   1262\u001b[0m             \u001b[0mattention_mask\u001b[0m\u001b[0;34m=\u001b[0m\u001b[0mdecoder_attention_mask\u001b[0m\u001b[0;34m,\u001b[0m\u001b[0;34m\u001b[0m\u001b[0;34m\u001b[0m\u001b[0m\n",
      "\u001b[0;32m/opt/anaconda3/lib/python3.9/site-packages/torch/nn/modules/module.py\u001b[0m in \u001b[0;36m_call_impl\u001b[0;34m(self, *args, **kwargs)\u001b[0m\n\u001b[1;32m   1499\u001b[0m                 \u001b[0;32mor\u001b[0m \u001b[0m_global_backward_pre_hooks\u001b[0m \u001b[0;32mor\u001b[0m \u001b[0m_global_backward_hooks\u001b[0m\u001b[0;34m\u001b[0m\u001b[0;34m\u001b[0m\u001b[0m\n\u001b[1;32m   1500\u001b[0m                 or _global_forward_hooks or _global_forward_pre_hooks):\n\u001b[0;32m-> 1501\u001b[0;31m             \u001b[0;32mreturn\u001b[0m \u001b[0mforward_call\u001b[0m\u001b[0;34m(\u001b[0m\u001b[0;34m*\u001b[0m\u001b[0margs\u001b[0m\u001b[0;34m,\u001b[0m \u001b[0;34m**\u001b[0m\u001b[0mkwargs\u001b[0m\u001b[0;34m)\u001b[0m\u001b[0;34m\u001b[0m\u001b[0;34m\u001b[0m\u001b[0m\n\u001b[0m\u001b[1;32m   1502\u001b[0m         \u001b[0;31m# Do not call functions when jit is used\u001b[0m\u001b[0;34m\u001b[0m\u001b[0;34m\u001b[0m\u001b[0m\n\u001b[1;32m   1503\u001b[0m         \u001b[0mfull_backward_hooks\u001b[0m\u001b[0;34m,\u001b[0m \u001b[0mnon_full_backward_hooks\u001b[0m \u001b[0;34m=\u001b[0m \u001b[0;34m[\u001b[0m\u001b[0;34m]\u001b[0m\u001b[0;34m,\u001b[0m \u001b[0;34m[\u001b[0m\u001b[0;34m]\u001b[0m\u001b[0;34m\u001b[0m\u001b[0;34m\u001b[0m\u001b[0m\n",
      "\u001b[0;32m/opt/anaconda3/lib/python3.9/site-packages/transformers/models/bart/modeling_bart.py\u001b[0m in \u001b[0;36mforward\u001b[0;34m(self, input_ids, attention_mask, encoder_hidden_states, encoder_attention_mask, head_mask, cross_attn_head_mask, past_key_values, inputs_embeds, use_cache, output_attentions, output_hidden_states, return_dict)\u001b[0m\n\u001b[1;32m   1116\u001b[0m                 )\n\u001b[1;32m   1117\u001b[0m             \u001b[0;32melse\u001b[0m\u001b[0;34m:\u001b[0m\u001b[0;34m\u001b[0m\u001b[0;34m\u001b[0m\u001b[0m\n\u001b[0;32m-> 1118\u001b[0;31m                 layer_outputs = decoder_layer(\n\u001b[0m\u001b[1;32m   1119\u001b[0m                     \u001b[0mhidden_states\u001b[0m\u001b[0;34m,\u001b[0m\u001b[0;34m\u001b[0m\u001b[0;34m\u001b[0m\u001b[0m\n\u001b[1;32m   1120\u001b[0m                     \u001b[0mattention_mask\u001b[0m\u001b[0;34m=\u001b[0m\u001b[0mattention_mask\u001b[0m\u001b[0;34m,\u001b[0m\u001b[0;34m\u001b[0m\u001b[0;34m\u001b[0m\u001b[0m\n",
      "\u001b[0;32m/opt/anaconda3/lib/python3.9/site-packages/torch/nn/modules/module.py\u001b[0m in \u001b[0;36m_call_impl\u001b[0;34m(self, *args, **kwargs)\u001b[0m\n\u001b[1;32m   1499\u001b[0m                 \u001b[0;32mor\u001b[0m \u001b[0m_global_backward_pre_hooks\u001b[0m \u001b[0;32mor\u001b[0m \u001b[0m_global_backward_hooks\u001b[0m\u001b[0;34m\u001b[0m\u001b[0;34m\u001b[0m\u001b[0m\n\u001b[1;32m   1500\u001b[0m                 or _global_forward_hooks or _global_forward_pre_hooks):\n\u001b[0;32m-> 1501\u001b[0;31m             \u001b[0;32mreturn\u001b[0m \u001b[0mforward_call\u001b[0m\u001b[0;34m(\u001b[0m\u001b[0;34m*\u001b[0m\u001b[0margs\u001b[0m\u001b[0;34m,\u001b[0m \u001b[0;34m**\u001b[0m\u001b[0mkwargs\u001b[0m\u001b[0;34m)\u001b[0m\u001b[0;34m\u001b[0m\u001b[0;34m\u001b[0m\u001b[0m\n\u001b[0m\u001b[1;32m   1502\u001b[0m         \u001b[0;31m# Do not call functions when jit is used\u001b[0m\u001b[0;34m\u001b[0m\u001b[0;34m\u001b[0m\u001b[0m\n\u001b[1;32m   1503\u001b[0m         \u001b[0mfull_backward_hooks\u001b[0m\u001b[0;34m,\u001b[0m \u001b[0mnon_full_backward_hooks\u001b[0m \u001b[0;34m=\u001b[0m \u001b[0;34m[\u001b[0m\u001b[0;34m]\u001b[0m\u001b[0;34m,\u001b[0m \u001b[0;34m[\u001b[0m\u001b[0;34m]\u001b[0m\u001b[0;34m\u001b[0m\u001b[0;34m\u001b[0m\u001b[0m\n",
      "\u001b[0;32m/opt/anaconda3/lib/python3.9/site-packages/transformers/models/bart/modeling_bart.py\u001b[0m in \u001b[0;36mforward\u001b[0;34m(self, hidden_states, attention_mask, encoder_hidden_states, encoder_attention_mask, layer_head_mask, cross_attn_layer_head_mask, past_key_value, output_attentions, use_cache)\u001b[0m\n\u001b[1;32m    465\u001b[0m         \u001b[0mhidden_states\u001b[0m \u001b[0;34m=\u001b[0m \u001b[0mnn\u001b[0m\u001b[0;34m.\u001b[0m\u001b[0mfunctional\u001b[0m\u001b[0;34m.\u001b[0m\u001b[0mdropout\u001b[0m\u001b[0;34m(\u001b[0m\u001b[0mhidden_states\u001b[0m\u001b[0;34m,\u001b[0m \u001b[0mp\u001b[0m\u001b[0;34m=\u001b[0m\u001b[0mself\u001b[0m\u001b[0;34m.\u001b[0m\u001b[0mactivation_dropout\u001b[0m\u001b[0;34m,\u001b[0m \u001b[0mtraining\u001b[0m\u001b[0;34m=\u001b[0m\u001b[0mself\u001b[0m\u001b[0;34m.\u001b[0m\u001b[0mtraining\u001b[0m\u001b[0;34m)\u001b[0m\u001b[0;34m\u001b[0m\u001b[0;34m\u001b[0m\u001b[0m\n\u001b[1;32m    466\u001b[0m         \u001b[0mhidden_states\u001b[0m \u001b[0;34m=\u001b[0m \u001b[0mself\u001b[0m\u001b[0;34m.\u001b[0m\u001b[0mfc2\u001b[0m\u001b[0;34m(\u001b[0m\u001b[0mhidden_states\u001b[0m\u001b[0;34m)\u001b[0m\u001b[0;34m\u001b[0m\u001b[0;34m\u001b[0m\u001b[0m\n\u001b[0;32m--> 467\u001b[0;31m         \u001b[0mhidden_states\u001b[0m \u001b[0;34m=\u001b[0m \u001b[0mnn\u001b[0m\u001b[0;34m.\u001b[0m\u001b[0mfunctional\u001b[0m\u001b[0;34m.\u001b[0m\u001b[0mdropout\u001b[0m\u001b[0;34m(\u001b[0m\u001b[0mhidden_states\u001b[0m\u001b[0;34m,\u001b[0m \u001b[0mp\u001b[0m\u001b[0;34m=\u001b[0m\u001b[0mself\u001b[0m\u001b[0;34m.\u001b[0m\u001b[0mdropout\u001b[0m\u001b[0;34m,\u001b[0m \u001b[0mtraining\u001b[0m\u001b[0;34m=\u001b[0m\u001b[0mself\u001b[0m\u001b[0;34m.\u001b[0m\u001b[0mtraining\u001b[0m\u001b[0;34m)\u001b[0m\u001b[0;34m\u001b[0m\u001b[0;34m\u001b[0m\u001b[0m\n\u001b[0m\u001b[1;32m    468\u001b[0m         \u001b[0mhidden_states\u001b[0m \u001b[0;34m=\u001b[0m \u001b[0mresidual\u001b[0m \u001b[0;34m+\u001b[0m \u001b[0mhidden_states\u001b[0m\u001b[0;34m\u001b[0m\u001b[0;34m\u001b[0m\u001b[0m\n\u001b[1;32m    469\u001b[0m         \u001b[0mhidden_states\u001b[0m \u001b[0;34m=\u001b[0m \u001b[0mself\u001b[0m\u001b[0;34m.\u001b[0m\u001b[0mfinal_layer_norm\u001b[0m\u001b[0;34m(\u001b[0m\u001b[0mhidden_states\u001b[0m\u001b[0;34m)\u001b[0m\u001b[0;34m\u001b[0m\u001b[0;34m\u001b[0m\u001b[0m\n",
      "\u001b[0;32m/opt/anaconda3/lib/python3.9/site-packages/torch/nn/functional.py\u001b[0m in \u001b[0;36mdropout\u001b[0;34m(input, p, training, inplace)\u001b[0m\n\u001b[1;32m   1267\u001b[0m     \u001b[0;32mif\u001b[0m \u001b[0mp\u001b[0m \u001b[0;34m<\u001b[0m \u001b[0;36m0.0\u001b[0m \u001b[0;32mor\u001b[0m \u001b[0mp\u001b[0m \u001b[0;34m>\u001b[0m \u001b[0;36m1.0\u001b[0m\u001b[0;34m:\u001b[0m\u001b[0;34m\u001b[0m\u001b[0;34m\u001b[0m\u001b[0m\n\u001b[1;32m   1268\u001b[0m         \u001b[0;32mraise\u001b[0m \u001b[0mValueError\u001b[0m\u001b[0;34m(\u001b[0m\u001b[0;34m\"dropout probability has to be between 0 and 1, \"\u001b[0m \u001b[0;34m\"but got {}\"\u001b[0m\u001b[0;34m.\u001b[0m\u001b[0mformat\u001b[0m\u001b[0;34m(\u001b[0m\u001b[0mp\u001b[0m\u001b[0;34m)\u001b[0m\u001b[0;34m)\u001b[0m\u001b[0;34m\u001b[0m\u001b[0;34m\u001b[0m\u001b[0m\n\u001b[0;32m-> 1269\u001b[0;31m     \u001b[0;32mreturn\u001b[0m \u001b[0m_VF\u001b[0m\u001b[0;34m.\u001b[0m\u001b[0mdropout_\u001b[0m\u001b[0;34m(\u001b[0m\u001b[0minput\u001b[0m\u001b[0;34m,\u001b[0m \u001b[0mp\u001b[0m\u001b[0;34m,\u001b[0m \u001b[0mtraining\u001b[0m\u001b[0;34m)\u001b[0m \u001b[0;32mif\u001b[0m \u001b[0minplace\u001b[0m \u001b[0;32melse\u001b[0m \u001b[0m_VF\u001b[0m\u001b[0;34m.\u001b[0m\u001b[0mdropout\u001b[0m\u001b[0;34m(\u001b[0m\u001b[0minput\u001b[0m\u001b[0;34m,\u001b[0m \u001b[0mp\u001b[0m\u001b[0;34m,\u001b[0m \u001b[0mtraining\u001b[0m\u001b[0;34m)\u001b[0m\u001b[0;34m\u001b[0m\u001b[0;34m\u001b[0m\u001b[0m\n\u001b[0m\u001b[1;32m   1270\u001b[0m \u001b[0;34m\u001b[0m\u001b[0m\n\u001b[1;32m   1271\u001b[0m \u001b[0;34m\u001b[0m\u001b[0m\n",
      "\u001b[0;31mKeyboardInterrupt\u001b[0m: "
     ]
    }
   ],
   "source": [
    "from tqdm import tqdm\n",
    "\n",
    "best_valid_loss = np.inf\n",
    "losses = []\n",
    "f1_scores = []\n",
    "accuracies = []\n",
    "rocs = []\n",
    "\n",
    "for n_epoch in range(100):\n",
    "    torch.mps.empty_cache()\n",
    "\n",
    "    train_losses, train_f1_scores, train_accuracies, train_roc_auc = loop(n_epoch, True, \n",
    "                                                                          criterion,\n",
    "                                                                          optimizer, model, \n",
    "                                                                          loader=train_loader)\n",
    "    valid_losses, valid_f1_scores, valid_accuracies, valid_roc_auc = loop(n_epoch, False,\n",
    "                                                                          criterion,\n",
    "                                                                          optimizer, model,\n",
    "                                                                          loader=valid_loader)\n",
    "\n",
    "    train_mean_loss = np.mean(train_losses)\n",
    "    valid_mean_loss = np.mean(valid_losses)\n",
    "\n",
    "    train_mean_f1_scores = np.mean(train_f1_scores)\n",
    "    valid_mean_f1_scores = np.mean(valid_f1_scores)\n",
    "\n",
    "    train_mean_accuracies = np.mean(train_accuracies)\n",
    "    valid_mean_accuracies = np.mean(valid_accuracies)\n",
    "    \n",
    "    train_mean_roc_auc = np.mean(train_roc_auc)\n",
    "    valid_mean_roc_auc = np.mean(valid_roc_auc)\n",
    "    \n",
    "    losses.append(valid_mean_loss)\n",
    "    f1_scores.append(valid_mean_f1_scores)\n",
    "    accuracies.append(valid_mean_accuracies)\n",
    "    rocs.append(valid_mean_roc_auc)\n",
    "\n",
    "    epoch_message = [\n",
    "        f\"Epoch {n_epoch} done\",\n",
    "        \"\",\n",
    "        \"Train\",\n",
    "        f\"\\tLoss: {train_mean_loss:.3f}\",\n",
    "        f\"\\tF1-score: {train_mean_f1_scores:.3f}\",\n",
    "        f\"\\tAccuracy: {train_mean_accuracies:.3f}\",\n",
    "        f\"\\tROC AUC: {train_mean_roc_auc:.3f}\",\n",
    "        \"Valid\",\n",
    "        f\"\\tLoss: {valid_mean_loss:.3f}\",\n",
    "        f\"\\tF1-score: {valid_mean_f1_scores:.3f}\",\n",
    "        f\"\\tAccuracy: {valid_mean_accuracies:.3f}\",\n",
    "        f\"\\tROC AUC: {valid_mean_roc_auc:.3f}\",\n",
    "    ]\n",
    "\n",
    "    print(\"\\n\".join(epoch_message))\n",
    "    \n",
    "    if valid_mean_loss > np.mean(losses) or np.isnan(np.mean(losses)):\n",
    "        print('early stop')\n",
    "        break\n",
    "\n",
    "    if valid_mean_loss < best_valid_loss:\n",
    "        best_valid_loss = valid_mean_loss\n",
    "        torch.save(model, \"best_classifier.pth\")\n",
    "        \n",
    "torch.save(model, \"last_classifier.pth\")"
   ]
  },
  {
   "cell_type": "code",
   "execution_count": 17,
   "id": "2dc0cb46-53bd-41c4-9a35-ab223324ed38",
   "metadata": {},
   "outputs": [],
   "source": [
    "classifier = torch.load('best_classifier.pth')"
   ]
  },
  {
   "cell_type": "code",
   "execution_count": 18,
   "id": "3522ebd8-9c9a-4bc3-ad57-f703f4a4603b",
   "metadata": {},
   "outputs": [
    {
     "name": "stderr",
     "output_type": "stream",
     "text": [
      "/opt/anaconda3/lib/python3.9/site-packages/sklearn/metrics/_classification.py:1318: UndefinedMetricWarning: Precision is ill-defined and being set to 0.0 due to no predicted samples. Use `zero_division` parameter to control this behavior.\n",
      "  _warn_prf(average, modifier, msg_start, len(result))\n",
      "/opt/anaconda3/lib/python3.9/site-packages/sklearn/metrics/_classification.py:1318: UndefinedMetricWarning: Precision is ill-defined and being set to 0.0 due to no predicted samples. Use `zero_division` parameter to control this behavior.\n",
      "  _warn_prf(average, modifier, msg_start, len(result))\n",
      "/opt/anaconda3/lib/python3.9/site-packages/sklearn/metrics/_classification.py:1318: UndefinedMetricWarning: Precision is ill-defined and being set to 0.0 due to no predicted samples. Use `zero_division` parameter to control this behavior.\n",
      "  _warn_prf(average, modifier, msg_start, len(result))\n",
      "/opt/anaconda3/lib/python3.9/site-packages/sklearn/metrics/_classification.py:1318: UndefinedMetricWarning: Precision is ill-defined and being set to 0.0 due to no predicted samples. Use `zero_division` parameter to control this behavior.\n",
      "  _warn_prf(average, modifier, msg_start, len(result))\n",
      "/opt/anaconda3/lib/python3.9/site-packages/sklearn/metrics/_classification.py:1318: UndefinedMetricWarning: Precision is ill-defined and being set to 0.0 due to no predicted samples. Use `zero_division` parameter to control this behavior.\n",
      "  _warn_prf(average, modifier, msg_start, len(result))\n",
      "/opt/anaconda3/lib/python3.9/site-packages/sklearn/metrics/_classification.py:1318: UndefinedMetricWarning: Precision is ill-defined and being set to 0.0 due to no predicted samples. Use `zero_division` parameter to control this behavior.\n",
      "  _warn_prf(average, modifier, msg_start, len(result))\n",
      "/opt/anaconda3/lib/python3.9/site-packages/sklearn/metrics/_classification.py:1318: UndefinedMetricWarning: Precision is ill-defined and being set to 0.0 due to no predicted samples. Use `zero_division` parameter to control this behavior.\n",
      "  _warn_prf(average, modifier, msg_start, len(result))\n",
      "/opt/anaconda3/lib/python3.9/site-packages/sklearn/metrics/_classification.py:1318: UndefinedMetricWarning: Precision is ill-defined and being set to 0.0 due to no predicted samples. Use `zero_division` parameter to control this behavior.\n",
      "  _warn_prf(average, modifier, msg_start, len(result))\n",
      "/opt/anaconda3/lib/python3.9/site-packages/sklearn/metrics/_classification.py:1318: UndefinedMetricWarning: Precision is ill-defined and being set to 0.0 due to no predicted samples. Use `zero_division` parameter to control this behavior.\n",
      "  _warn_prf(average, modifier, msg_start, len(result))\n",
      "/opt/anaconda3/lib/python3.9/site-packages/sklearn/metrics/_classification.py:1318: UndefinedMetricWarning: Precision is ill-defined and being set to 0.0 due to no predicted samples. Use `zero_division` parameter to control this behavior.\n",
      "  _warn_prf(average, modifier, msg_start, len(result))\n"
     ]
    },
    {
     "data": {
      "image/png": "[encoded data removed]",
      "text/plain": [
       "<Figure size 640x480 with 1 Axes>"
      ]
     },
     "metadata": {},
     "output_type": "display_data"
    }
   ],
   "source": [
    "step_threshold = 3\n",
    "min_threshold, max_threshold = 40, 80\n",
    "\n",
    "f1_results = []\n",
    "accuracies = []\n",
    "precisions = []\n",
    "recalls = []\n",
    "roc_aucs = []\n",
    "\n",
    "thresholds_range = range(min_threshold, max_threshold, step_threshold)\n",
    "\n",
    "model.eval()\n",
    "\n",
    "y_hats = []\n",
    "y_true = []\n",
    "for n_step, (batch, targets) in enumerate(valid_loader):\n",
    "\n",
    "    batch = batch.to(classifier.device)\n",
    "\n",
    "    with torch.no_grad():\n",
    "        logits = model(**batch).logits\n",
    "\n",
    "    outputs = F.softmax(logits.detach().cpu(), dim=1)[:, 1]\n",
    "    \n",
    "    y_hats.extend(outputs.tolist())\n",
    "    y_true.extend(targets.tolist())\n",
    "\n",
    "for i in thresholds_range:\n",
    "    thresholded_y_hats = np.array(y_hats) > i / 100\n",
    "    f1_results.append(f1_score(y_true, thresholded_y_hats))\n",
    "    accuracies.append(accuracy_score(y_true, thresholded_y_hats))\n",
    "    precisions.append(precision_score(y_true, thresholded_y_hats))\n",
    "    recalls.append(recall_score(y_true, thresholded_y_hats))\n",
    "    roc_aucs.append(roc_auc_score(y_true, thresholded_y_hats))\n",
    "    \n",
    "plt.plot(thresholds_range, f1_results, label='f1-score')\n",
    "plt.plot(thresholds_range, accuracies, label='accuracy')\n",
    "plt.plot(thresholds_range, precisions, label='precision')\n",
    "plt.plot(thresholds_range, recalls, label='recall')\n",
    "plt.plot(thresholds_range, roc_aucs, label='roc-auc')\n",
    "\n",
    "plt.legend()\n",
    "plt.show()"
   ]
  },
  {
   "cell_type": "code",
   "execution_count": 45,
   "id": "090dc977-91d8-456b-8df5-2a01f76c645d",
   "metadata": {},
   "outputs": [],
   "source": [
    "from random import sample\n",
    "\n",
    "samples = sample(dataset[-50:], 10)\n",
    "processed_samples = ['\\n\\n'.join(['\\n'.join([f'Fact about {random_sample[\"speaker\"]}:', \n",
    "                                          random_sample['fact']]), \n",
    "                                  random_sample['dialog'],]) for random_sample in samples]"
   ]
  },
  {
   "cell_type": "code",
   "execution_count": 46,
   "id": "107f33ae-5fff-4899-8edf-e3b0776f9e18",
   "metadata": {},
   "outputs": [
    {
     "name": "stdout",
     "output_type": "stream",
     "text": [
      "Fact about bot_1:\n",
      "bot_1 mentioned that they majored in computer science in college.\n",
      "\n",
      "bot_0: I like to have money to spend. What is the quickest way to be as rich as you?\n",
      "bot_1: I inherited some money and used it to develop my company. So I would say that you should find your passion and do what you can to profit from it.\n",
      "bot_0: Thats good advice.  My only passion right now is helping shelter pets.  I feel so sad that people overlook them because they're not a designer breed.  When are you heading back to Paris?\n",
      "bot_1: I think you can definitely find a way to make a lot of money by helping animals! Going to college might be a way you can find your passion helping animals. I'm planning on taking my sister there for her birthday.\n",
      "bot_0: I guess a business degree isn't the worst idea in the world.  I wish I had a sibling who would take me to Paris.  So jealous.  Any special plans while you are there?\n",
      "bot_1: Lol just regular touristy things. We'll probably go to some cafes, shop around, and visit the Eiffel tower. \n",
      "bot_0: There's nothing wrong with that.  I'd probably do the same thing....and eat a lot of cheese.  How's your hockey team doing this year?\n",
      "bot_1: I'll definitely put eating cheese on our to-do list while we're there. Not off to the greatest start, but I have hope they'll pull through. \n",
      "bot_0: I've tried watching hockey on tv but I can't get into it.  Plus, it's hard to follow the puck on the ice.  Why isn't your other sister going to Paris with you?\n",
      "bot_1: Yeah, I think hockey is one of those sports that you either love or can't get into. She's going, but she's getting there a little later than us because she couldn't get extra days off of work. \n",
      "bot_0: Hey, at least she's going.  I'd be thrilled to just spend 24 hours in the city.  What did you major in at college?\n",
      "bot_1: Yeah we couldn't celebrate a birthday without her! I majored in computer science.\n"
     ]
    }
   ],
   "source": [
    "print(processed_samples[0])"
   ]
  },
  {
   "cell_type": "code",
   "execution_count": 47,
   "id": "badec630-a168-496f-91cf-ffa0a27e370d",
   "metadata": {},
   "outputs": [],
   "source": [
    "inputs = tokenizer(\n",
    "            processed_samples, \n",
    "            return_tensors=\"pt\",\n",
    "            truncation=True,\n",
    "            padding=True,\n",
    "            max_length=2048,\n",
    "        ).to(classifier.device)\n",
    "with torch.no_grad():\n",
    "    outputs = classifier(inputs, inputs.attention_mask)"
   ]
  },
  {
   "cell_type": "code",
   "execution_count": 52,
   "id": "68f6cc89-ef04-4e2a-9f15-88ee2b5fb42e",
   "metadata": {},
   "outputs": [
    {
     "data": {
      "text/plain": [
       "tensor([0.6270, 0.6219, 0.6200, 0.5939, 0.6520, 0.6129, 0.5939, 0.5895, 0.6030,\n",
       "        0.5751])"
      ]
     },
     "execution_count": 52,
     "metadata": {},
     "output_type": "execute_result"
    }
   ],
   "source": [
    "F.softmax(outputs.detach().cpu(), dim=1)[:, 1]"
   ]
  },
  {
   "cell_type": "code",
   "execution_count": 49,
   "id": "8e5c60c3-f33a-4fb8-af9c-833fd54af190",
   "metadata": {},
   "outputs": [
    {
     "data": {
      "text/plain": [
       "[1, 1, 1, 1, 1, 0, 1, 0, 1, 1]"
      ]
     },
     "execution_count": 49,
     "metadata": {},
     "output_type": "execute_result"
    }
   ],
   "source": [
    "[int(random_sample['target']) for random_sample in samples]"
   ]
  },
  {
   "cell_type": "code",
   "execution_count": 50,
   "id": "48b8d04a-b686-4df7-9330-a3e358fdc196",
   "metadata": {},
   "outputs": [
    {
     "data": {
      "text/plain": [
       "0.6875"
      ]
     },
     "execution_count": 50,
     "metadata": {},
     "output_type": "execute_result"
    }
   ],
   "source": [
    "roc_auc_score([int(random_sample['target']) for random_sample in samples], F.softmax(outputs.detach().cpu(), dim=1)[:, 1])"
   ]
  },
  {
   "cell_type": "code",
   "execution_count": null,
   "id": "da8cbc76-ffdc-4457-9deb-aa2d3a1021ca",
   "metadata": {},
   "outputs": [
    {
     "data": {
      "text/plain": [
       "90.0"
      ]
     },
     "execution_count": 166,
     "metadata": {},
     "output_type": "execute_result"
    }
   ],
   "source": [
    "100 - (100 * .1) * 1"
   ]
  },
  {
   "cell_type": "code",
   "execution_count": null,
   "id": "5103203c-b731-4f34-a2ae-4baa22587584",
   "metadata": {},
   "outputs": [
    {
     "data": {
      "text/plain": [
       "100.0"
      ]
     },
     "execution_count": 170,
     "metadata": {},
     "output_type": "execute_result"
    }
   ],
   "source": [
    "100 / 1"
   ]
  }
 ],
 "metadata": {
  "kernelspec": {
   "display_name": "Python 3 (ipykernel)",
   "language": "python",
   "name": "python3"
  },
  "language_info": {
   "codemirror_mode": {
    "name": "ipython",
    "version": 3
   },
   "file_extension": ".py",
   "mimetype": "text/x-python",
   "name": "python",
   "nbconvert_exporter": "python",
   "pygments_lexer": "ipython3",
   "version": "3.9.13"
  }
 },
 "nbformat": 4,
 "nbformat_minor": 5
}
